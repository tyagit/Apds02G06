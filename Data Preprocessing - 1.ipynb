{
 "cells": [
  {
   "cell_type": "code",
   "execution_count": 1,
   "metadata": {},
   "outputs": [],
   "source": [
    "from pyspark import SparkContext\n",
    "from pyspark.sql import SparkSession\n",
    "import os\n",
    "os.chdir('D:\\APDS\\Project\\Yelp\\py workspace')\n",
    "REVIEW_FILE_PATH = 'D:\\\\APDS\\\\Project\\\\Yelp\\\\dataset\\\\RestaurantData\\\\review.csv'"
   ]
  },
  {
   "cell_type": "code",
   "execution_count": 2,
   "metadata": {},
   "outputs": [],
   "source": [
    "sc = SparkContext(\"local\", \"Yelp - Restaurant Reviews Preprocessing\")"
   ]
  },
  {
   "cell_type": "code",
   "execution_count": 3,
   "metadata": {},
   "outputs": [],
   "source": [
    "spark = SparkSession \\\n",
    "    .builder \\\n",
    "    .appName(\"local\") \\\n",
    "    .getOrCreate()\n",
    "\n",
    "df = spark.read.csv(\n",
    "    REVIEW_FILE_PATH, header=True, mode=\"DROPMALFORMED\", quote='\"', escape='\"', multiLine=True\n",
    ")"
   ]
  },
  {
   "cell_type": "code",
   "execution_count": 4,
   "metadata": {},
   "outputs": [
    {
     "data": {
      "text/plain": [
       "pyspark.sql.dataframe.DataFrame"
      ]
     },
     "execution_count": 4,
     "metadata": {},
     "output_type": "execute_result"
    }
   ],
   "source": [
    "type(df)"
   ]
  },
  {
   "cell_type": "code",
   "execution_count": 5,
   "metadata": {},
   "outputs": [
    {
     "data": {
      "text/plain": [
       "[Row(_c0='25', review_id='Ia-w-nR1FrlzsiuEiqqlbg', user_id='u0LXt3Uea_GidxRW1xcsfg', business_id='Eox_Qq74oaFZ-YjthpHhBw', stars='3', date='2011-07-18', text='Service is really slow here. I waited for over 25 mins just for takeout. Definitely not worth the wait. However, they seem to have live music Friday nites, so if you are looking for entertainment and food sit-in is probably a lot faster', useful='1', funny='1', cool='1'),\n",
       " Row(_c0='93', review_id='BF0ANB54sc_f-3_howQBCg', user_id='ssuXFjkH4neiBgwv-oN4IA', business_id='JlNeaOymdVbE6_bubqjohg', stars='1', date='2014-08-09', text=\"We always go to the chevo's in chandler which is delicious, the one in ahwatukee is different for some reason.  Ordered the chicken rolled tacos today there was a tiny lil piece of chicken in each one, so basically I had 3 rolled deep fried tortillas yuck! :( No flavor what so ever.  Also ordered carne asada taco the meat tasted old like it was cooked earlier and just thrown on the grill to get warm.  Very dissapointed!!\", useful='3', funny='0', cool='0'),\n",
       " Row(_c0='94', review_id='DbLUpPT61ykLTakknCF9CQ', user_id='ssuXFjkH4neiBgwv-oN4IA', business_id='0Rni7ocMC_Lg2UH0lDeKMQ', stars='1', date='2014-08-09', text='This place is always so dirty and grimy, been there twice and will not be back.  Customer service is horrible!!!', useful='6', funny='0', cool='0'),\n",
       " Row(_c0='100', review_id='QYw2OurOBplkQRCpYExp_w', user_id='nOTl4aPC4tKHK35T3bNauQ', business_id='XCxxPZ3Lu5mwmIo7IQRf1g', stars='4', date='2016-01-24', text=\"This place is always solid and the customer service always very nice. It's not the BEST Japanese\\\\/Korean food out there, but it's consistently good. What is lacks in finesse it makes up for in portion size. The portions are huge. It's our go-to sushi place these days.\", useful='0', funny='0', cool='0'),\n",
       " Row(_c0='101', review_id='udzzB55YAxWEfVmkcZGYSA', user_id='nOTl4aPC4tKHK35T3bNauQ', business_id='VTs4f6LnUMHD4ysOezHSUQ', stars='4', date='2012-07-08', text=\"Sometimes it feels SO good to be SO bad...for you. I have been dying to try out an actual poutinerie for a long time and it did not disappoint. I've been twice now. Once I had the basic poutine and once I had the pulled pork poutine. Both are good, but I really love that pulled pork poutine. The BBQ sauce they have has just a touch of sweetness and it really compliments the fries and cheese curds. A large poutine is more than enough for two people and I liked the little restaurant space with the 80s glam rock playing and quirky pictures on the walls. I guess my only criticism is that they need more seating. Both times I've been we got lucky and managed to snag seats as someone was leaving, but it's gross out on the street and this summer anyway, it's been SO hot outside. They don't have space for more seats, so this isn't really something they can easily fix, but maybe something to keep in mind for future establishments? Anyway, if you want a very unhealthy treat, it's a go!\", useful='1', funny='0', cool='0')]"
      ]
     },
     "execution_count": 5,
     "metadata": {},
     "output_type": "execute_result"
    }
   ],
   "source": [
    "df.head(5)"
   ]
  },
  {
   "cell_type": "code",
   "execution_count": 5,
   "metadata": {},
   "outputs": [
    {
     "name": "stdout",
     "output_type": "stream",
     "text": [
      "root\n",
      " |-- _c0: string (nullable = true)\n",
      " |-- review_id: string (nullable = true)\n",
      " |-- user_id: string (nullable = true)\n",
      " |-- business_id: string (nullable = true)\n",
      " |-- stars: string (nullable = true)\n",
      " |-- date: string (nullable = true)\n",
      " |-- text: string (nullable = true)\n",
      " |-- useful: string (nullable = true)\n",
      " |-- funny: string (nullable = true)\n",
      " |-- cool: string (nullable = true)\n",
      "\n"
     ]
    }
   ],
   "source": [
    "df.printSchema()"
   ]
  },
  {
   "cell_type": "code",
   "execution_count": 6,
   "metadata": {},
   "outputs": [
    {
     "name": "stdout",
     "output_type": "stream",
     "text": [
      "+---+--------------------+--------------------+--------------------+-----+----------+--------------------+------+-----+----+\n",
      "|_c0|           review_id|             user_id|         business_id|stars|      date|                text|useful|funny|cool|\n",
      "+---+--------------------+--------------------+--------------------+-----+----------+--------------------+------+-----+----+\n",
      "|  0|vkVSCC7xljjrAI4UG...|bv2nCi5Qv5vroFiqK...|AEx2SYEUJmTxVVB18...|    5|2016-05-28|Super simple plac...|     0|    0|   0|\n",
      "|  1|n6QzIUObkYshz4dz2...|bv2nCi5Qv5vroFiqK...|VR6GpWIda3SfvPC-l...|    5|2016-05-28|Small unassuming ...|     0|    0|   0|\n",
      "+---+--------------------+--------------------+--------------------+-----+----------+--------------------+------+-----+----+\n",
      "only showing top 2 rows\n",
      "\n"
     ]
    }
   ],
   "source": [
    "df.show(2, truncate=True)"
   ]
  },
  {
   "cell_type": "code",
   "execution_count": 7,
   "metadata": {},
   "outputs": [
    {
     "data": {
      "text/plain": [
       "['_c0',\n",
       " 'review_id',\n",
       " 'user_id',\n",
       " 'business_id',\n",
       " 'stars',\n",
       " 'date',\n",
       " 'text',\n",
       " 'useful',\n",
       " 'funny',\n",
       " 'cool']"
      ]
     },
     "execution_count": 7,
     "metadata": {},
     "output_type": "execute_result"
    }
   ],
   "source": [
    "df.columns"
   ]
  },
  {
   "cell_type": "code",
   "execution_count": 10,
   "metadata": {},
   "outputs": [
    {
     "data": {
      "text/plain": [
       "DataFrame[summary: string, _c0: string, review_id: string, user_id: string, business_id: string, stars: string, date: string, text: string, useful: string, funny: string, cool: string]"
      ]
     },
     "execution_count": 10,
     "metadata": {},
     "output_type": "execute_result"
    }
   ],
   "source": [
    "##df.describe().show()"
   ]
  },
  {
   "cell_type": "code",
   "execution_count": 9,
   "metadata": {},
   "outputs": [
    {
     "name": "stdout",
     "output_type": "stream",
     "text": [
      "+---+---------+-------+-----------+-----+----+----+------+-----+----+\n",
      "|_c0|review_id|user_id|business_id|stars|date|text|useful|funny|cool|\n",
      "+---+---------+-------+-----------+-----+----+----+------+-----+----+\n",
      "|  0|        0|      0|          0|    0|   0|   0|     0|    0|   0|\n",
      "+---+---------+-------+-----------+-----+----+----+------+-----+----+\n",
      "\n"
     ]
    }
   ],
   "source": [
    "from pyspark.sql.functions import isnan, when, count, col\n",
    "df.select([count(when(isnan(c), c)).alias(c) for c in df.columns]).show()"
   ]
  },
  {
   "cell_type": "code",
   "execution_count": 10,
   "metadata": {},
   "outputs": [
    {
     "name": "stdout",
     "output_type": "stream",
     "text": [
      "+---+---------+-------+-----------+-----+----+----+------+-----+----+\n",
      "|_c0|review_id|user_id|business_id|stars|date|text|useful|funny|cool|\n",
      "+---+---------+-------+-----------+-----+----+----+------+-----+----+\n",
      "|  0|        0|      0|          0|    0|   0|   0|     0|    0|   0|\n",
      "+---+---------+-------+-----------+-----+----+----+------+-----+----+\n",
      "\n"
     ]
    }
   ],
   "source": [
    "df.select([count(when(col(c).isNull(), c)).alias(c) for c in df.columns]).show()"
   ]
  },
  {
   "cell_type": "code",
   "execution_count": 22,
   "metadata": {},
   "outputs": [],
   "source": [
    "##df = df.dropna()"
   ]
  },
  {
   "cell_type": "code",
   "execution_count": 8,
   "metadata": {},
   "outputs": [
    {
     "name": "stdout",
     "output_type": "stream",
     "text": [
      "+-----+\n",
      "|stars|\n",
      "+-----+\n",
      "|    5|\n",
      "|    5|\n",
      "|    5|\n",
      "|    4|\n",
      "|    4|\n",
      "|    4|\n",
      "|    3|\n",
      "|    4|\n",
      "|    3|\n",
      "|    3|\n",
      "+-----+\n",
      "only showing top 10 rows\n",
      "\n"
     ]
    }
   ],
   "source": [
    "df.select('stars').show(10)"
   ]
  },
  {
   "cell_type": "code",
   "execution_count": 9,
   "metadata": {},
   "outputs": [],
   "source": [
    "df = df.filter(df.stars != 3)"
   ]
  },
  {
   "cell_type": "code",
   "execution_count": 10,
   "metadata": {},
   "outputs": [
    {
     "name": "stdout",
     "output_type": "stream",
     "text": [
      "+-----+\n",
      "|stars|\n",
      "+-----+\n",
      "|    5|\n",
      "|    1|\n",
      "|    4|\n",
      "|    2|\n",
      "+-----+\n",
      "\n"
     ]
    }
   ],
   "source": [
    "df.select('stars').distinct().show()"
   ]
  },
  {
   "cell_type": "code",
   "execution_count": 11,
   "metadata": {},
   "outputs": [
    {
     "name": "stdout",
     "output_type": "stream",
     "text": [
      "+-----+-------+\n",
      "|stars|  count|\n",
      "+-----+-------+\n",
      "|    5|1197747|\n",
      "|    1| 357190|\n",
      "|    4| 870371|\n",
      "|    2| 305846|\n",
      "+-----+-------+\n",
      "\n"
     ]
    }
   ],
   "source": [
    "df.groupby('stars').count().show()"
   ]
  },
  {
   "cell_type": "code",
   "execution_count": 18,
   "metadata": {},
   "outputs": [
    {
     "data": {
      "text/plain": [
       "pyspark.sql.dataframe.DataFrame"
      ]
     },
     "execution_count": 18,
     "metadata": {},
     "output_type": "execute_result"
    }
   ],
   "source": [
    "type(reviewcol)"
   ]
  },
  {
   "cell_type": "code",
   "execution_count": 24,
   "metadata": {},
   "outputs": [],
   "source": [
    "import re\n",
    "import pandas as pd\n",
    "import numpy as np\n",
    "import nltk \n",
    "from nltk.corpus import stopwords\n",
    "from nltk.stem import PorterStemmer\n",
    "from textblob import TextBlob\n",
    "from textblob import Word\n",
    "from sklearn.feature_extraction.text import TfidfVectorizer\n",
    "from sklearn.feature_extraction.text import CountVectorizer\n",
    "from pyspark.ml.feature import Tokenizer, RegexTokenizer\n",
    "from pyspark.sql.functions import col, udf\n",
    "from pyspark.sql.types import IntegerType\n",
    "from pyspark.ml.feature import StopWordsRemover\n",
    "from pyspark.ml.feature import CountVectorizer"
   ]
  },
  {
   "cell_type": "markdown",
   "metadata": {},
   "source": [
    "### Tokenization"
   ]
  },
  {
   "cell_type": "code",
   "execution_count": 13,
   "metadata": {},
   "outputs": [],
   "source": [
    "tokenizer = Tokenizer(inputCol=\"text\", outputCol=\"words\")\n",
    "regexTokenizer = RegexTokenizer(inputCol=\"text\", outputCol=\"words\", pattern=\"\\\\W\")"
   ]
  },
  {
   "cell_type": "code",
   "execution_count": 14,
   "metadata": {},
   "outputs": [],
   "source": [
    "tokenized = tokenizer.transform(df)\n",
    "regexTokenized = regexTokenizer.transform(df)"
   ]
  },
  {
   "cell_type": "code",
   "execution_count": 15,
   "metadata": {},
   "outputs": [
    {
     "name": "stdout",
     "output_type": "stream",
     "text": [
      "+--------------------+--------------------+\n",
      "|                text|               words|\n",
      "+--------------------+--------------------+\n",
      "|Super simple plac...|[super, simple, p...|\n",
      "|Small unassuming ...|[small, unassumin...|\n",
      "|Lester's is locat...|[lester's, is, lo...|\n",
      "|Love coming here....|[love, coming, he...|\n",
      "|Had their chocola...|[had, their, choc...|\n",
      "+--------------------+--------------------+\n",
      "only showing top 5 rows\n",
      "\n"
     ]
    }
   ],
   "source": [
    "tokenized.select(\"text\", \"words\").show(5)"
   ]
  },
  {
   "cell_type": "code",
   "execution_count": 16,
   "metadata": {},
   "outputs": [
    {
     "name": "stdout",
     "output_type": "stream",
     "text": [
      "+--------------------+--------------------+\n",
      "|                text|               words|\n",
      "+--------------------+--------------------+\n",
      "|Super simple plac...|[super, simple, p...|\n",
      "|Small unassuming ...|[small, unassumin...|\n",
      "|Lester's is locat...|[lester, s, is, l...|\n",
      "|Love coming here....|[love, coming, he...|\n",
      "|Had their chocola...|[had, their, choc...|\n",
      "+--------------------+--------------------+\n",
      "only showing top 5 rows\n",
      "\n"
     ]
    }
   ],
   "source": [
    "regexTokenized.select(\"text\", \"words\").show(5)"
   ]
  },
  {
   "cell_type": "markdown",
   "metadata": {},
   "source": [
    "### Stopwords remover"
   ]
  },
  {
   "cell_type": "code",
   "execution_count": 19,
   "metadata": {},
   "outputs": [
    {
     "name": "stdout",
     "output_type": "stream",
     "text": [
      "+----------------------------------------------------------------------------------------------------------------------------------------------------------------------------------------------------------------------------------------------------------------------------------------------------------------------------------------------------------------------------------------------------------------------------------------------------------------------------------------------------------------------+--------------------------------------------------------------------------------------------------------------------------------------------------------------------------------------------------------------------------------------------------------------------------------------------------------------------------------------------------------------------------------------------------------------------------------------------------------------------------------------------------------------------------------------------------------------------------------------------------------+------------------------------------------------------------------------------------------------------------------------------------------------------------------------------------------------------------------------------------------------------------------------------------------------------------------------------------------------------------------------------------------+\n",
      "|text                                                                                                                                                                                                                                                                                                                                                                                                                                                                                                                  |words                                                                                                                                                                                                                                                                                                                                                                                                                                                                                                                                                                                                   |filtered                                                                                                                                                                                                                                                                                                                                                                                  |\n",
      "+----------------------------------------------------------------------------------------------------------------------------------------------------------------------------------------------------------------------------------------------------------------------------------------------------------------------------------------------------------------------------------------------------------------------------------------------------------------------------------------------------------------------+--------------------------------------------------------------------------------------------------------------------------------------------------------------------------------------------------------------------------------------------------------------------------------------------------------------------------------------------------------------------------------------------------------------------------------------------------------------------------------------------------------------------------------------------------------------------------------------------------------+------------------------------------------------------------------------------------------------------------------------------------------------------------------------------------------------------------------------------------------------------------------------------------------------------------------------------------------------------------------------------------------+\n",
      "|Super simple place but amazing nonetheless. It's been around since the 30's and they still serve the same thing they started with: a bologna and salami sandwich with mustard. \n",
      "\n",
      "Staff was very helpful and friendly.                                                                                                                                                                                                                                                                                                 |[super, simple, place, but, amazing, nonetheless, it, s, been, around, since, the, 30, s, and, they, still, serve, the, same, thing, they, started, with, a, bologna, and, salami, sandwich, with, mustard, staff, was, very, helpful, and, friendly]                                                                                                                                                                                                                                                                                                                                                   |[super, simple, place, amazing, nonetheless, around, since, 30, still, serve, thing, started, bologna, salami, sandwich, mustard, staff, helpful, friendly]                                                                                                                                                                                                                               |\n",
      "|Small unassuming place that changes their menu every so often. Cool decor and vibe inside their 30 seat restaurant. Call for a reservation. \n",
      "\n",
      "We had their beef tartar and pork belly to start and a salmon dish and lamb meal for mains. Everything was incredible! I could go on at length about how all the listed ingredients really make their dishes amazing but honestly you just need to go. \n",
      "\n",
      "A bit outside of downtown montreal but take the metro out and it's less than a 10 minute walk from the station.|[small, unassuming, place, that, changes, their, menu, every, so, often, cool, decor, and, vibe, inside, their, 30, seat, restaurant, call, for, a, reservation, we, had, their, beef, tartar, and, pork, belly, to, start, and, a, salmon, dish, and, lamb, meal, for, mains, everything, was, incredible, i, could, go, on, at, length, about, how, all, the, listed, ingredients, really, make, their, dishes, amazing, but, honestly, you, just, need, to, go, a, bit, outside, of, downtown, montreal, but, take, the, metro, out, and, it, s, less, than, a, 10, minute, walk, from, the, station]|[small, unassuming, place, changes, menu, every, often, cool, decor, vibe, inside, 30, seat, restaurant, call, reservation, beef, tartar, pork, belly, start, salmon, dish, lamb, meal, mains, everything, incredible, go, length, listed, ingredients, really, make, dishes, amazing, honestly, need, go, bit, outside, downtown, montreal, take, metro, less, 10, minute, walk, station]|\n",
      "+----------------------------------------------------------------------------------------------------------------------------------------------------------------------------------------------------------------------------------------------------------------------------------------------------------------------------------------------------------------------------------------------------------------------------------------------------------------------------------------------------------------------+--------------------------------------------------------------------------------------------------------------------------------------------------------------------------------------------------------------------------------------------------------------------------------------------------------------------------------------------------------------------------------------------------------------------------------------------------------------------------------------------------------------------------------------------------------------------------------------------------------+------------------------------------------------------------------------------------------------------------------------------------------------------------------------------------------------------------------------------------------------------------------------------------------------------------------------------------------------------------------------------------------+\n",
      "only showing top 2 rows\n",
      "\n"
     ]
    }
   ],
   "source": [
    "dfWithWords = regexTokenized.select('text','words')\n",
    "remover = StopWordsRemover(inputCol=\"words\", outputCol=\"filtered\")\n",
    "##show top 2 rows without truncation\n",
    "remover.transform(dfWithWords).show(2, False) "
   ]
  },
  {
   "cell_type": "code",
   "execution_count": 20,
   "metadata": {},
   "outputs": [
    {
     "name": "stdout",
     "output_type": "stream",
     "text": [
      "+---+--------------------+--------------------+--------------------+-----+----------+--------------------+------+-----+----+\n",
      "|_c0|           review_id|             user_id|         business_id|stars|      date|                text|useful|funny|cool|\n",
      "+---+--------------------+--------------------+--------------------+-----+----------+--------------------+------+-----+----+\n",
      "|  0|vkVSCC7xljjrAI4UG...|bv2nCi5Qv5vroFiqK...|AEx2SYEUJmTxVVB18...|    5|2016-05-28|Super simple plac...|     0|    0|   0|\n",
      "|  1|n6QzIUObkYshz4dz2...|bv2nCi5Qv5vroFiqK...|VR6GpWIda3SfvPC-l...|    5|2016-05-28|Small unassuming ...|     0|    0|   0|\n",
      "|  2|MV3CcKScW05u5LVfF...|bv2nCi5Qv5vroFiqK...|CKC0-MOWMqoeWf6s-...|    5|2016-05-28|Lester's is locat...|     0|    0|   0|\n",
      "|  3|IXvOzsEMYtiJI0CAR...|bv2nCi5Qv5vroFiqK...|ACFtxLv8pGrrxMm6E...|    4|2016-05-28|Love coming here....|     0|    0|   0|\n",
      "|  4|L_9BTb55X0GDtThi6...|bv2nCi5Qv5vroFiqK...|s2I_Ni76bjJNK9yG6...|    4|2016-05-28|Had their chocola...|     0|    0|   0|\n",
      "+---+--------------------+--------------------+--------------------+-----+----------+--------------------+------+-----+----+\n",
      "only showing top 5 rows\n",
      "\n"
     ]
    }
   ],
   "source": [
    "df.show(5)"
   ]
  },
  {
   "cell_type": "code",
   "execution_count": 28,
   "metadata": {},
   "outputs": [],
   "source": [
    "dfWithoutStopWords = remover.transform(dfWithWords)\n",
    "cv = CountVectorizer(inputCol=\"filtered\", outputCol=\"features\")\n",
    "model = cv.fit(dfWithoutStopWords)"
   ]
  },
  {
   "cell_type": "code",
   "execution_count": 29,
   "metadata": {},
   "outputs": [
    {
     "name": "stdout",
     "output_type": "stream",
     "text": [
      "+--------------------+--------------------+--------------------+--------------------+\n",
      "|                text|               words|            filtered|            features|\n",
      "+--------------------+--------------------+--------------------+--------------------+\n",
      "|Super simple plac...|[super, simple, p...|[super, simple, p...|(262144,[2,33,34,...|\n",
      "|Small unassuming ...|[small, unassumin...|[small, unassumin...|(262144,[2,10,11,...|\n",
      "|Lester's is locat...|[lester, s, is, l...|[lester, located,...|(262144,[10,18,21...|\n",
      "|Love coming here....|[love, coming, he...|[love, coming, ye...|(262144,[0,1,2,17...|\n",
      "|Had their chocola...|[had, their, choc...|[chocolate, almon...|(262144,[34,65,13...|\n",
      "+--------------------+--------------------+--------------------+--------------------+\n",
      "only showing top 5 rows\n",
      "\n"
     ]
    }
   ],
   "source": [
    "result = model.transform(dfWithoutStopWords)\n",
    "result.show(5)"
   ]
  },
  {
   "cell_type": "code",
   "execution_count": 32,
   "metadata": {},
   "outputs": [
    {
     "data": {
      "text/plain": [
       "262144"
      ]
     },
     "execution_count": 32,
     "metadata": {},
     "output_type": "execute_result"
    }
   ],
   "source": [
    "len(model.vocabulary)"
   ]
  },
  {
   "cell_type": "code",
   "execution_count": null,
   "metadata": {},
   "outputs": [],
   "source": []
  }
 ],
 "metadata": {
  "kernelspec": {
   "display_name": "Python 3",
   "language": "python",
   "name": "python3"
  },
  "language_info": {
   "codemirror_mode": {
    "name": "ipython",
    "version": 3
   },
   "file_extension": ".py",
   "mimetype": "text/x-python",
   "name": "python",
   "nbconvert_exporter": "python",
   "pygments_lexer": "ipython3",
   "version": "3.6.5"
  }
 },
 "nbformat": 4,
 "nbformat_minor": 2
}
