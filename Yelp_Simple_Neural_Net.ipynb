{
 "cells": [
  {
   "cell_type": "code",
   "execution_count": 139,
   "metadata": {},
   "outputs": [],
   "source": [
    "import os\n",
    "import pandas as pd\n",
    "import numpy as np\n",
    "import keras\n",
    "from keras.preprocessing.text import hashing_trick\n",
    "from keras.preprocessing.text import text_to_word_sequence\n",
    "from keras.preprocessing.text import one_hot\n",
    "from keras import layers\n",
    "from sklearn.model_selection import StratifiedShuffleSplit\n",
    "from __future__ import absolute_import, division, print_function\n",
    "import tensorflow as tf\n",
    "os.chdir('D:\\APDS\\Project\\Yelp\\py workspace')"
   ]
  },
  {
   "cell_type": "code",
   "execution_count": 2,
   "metadata": {},
   "outputs": [],
   "source": [
    "df_recommended = pd.read_csv('..\\\\dataset\\\\RestaurantData\\\\recommended.csv')\n",
    "df_not_recommended = pd.read_csv('..\\\\dataset\\\\RestaurantData\\\\not_recommended.csv')"
   ]
  },
  {
   "cell_type": "code",
   "execution_count": 3,
   "metadata": {},
   "outputs": [],
   "source": [
    "df_recommended['label'] = 1\n",
    "df_not_recommended['label'] = 0"
   ]
  },
  {
   "cell_type": "code",
   "execution_count": 4,
   "metadata": {},
   "outputs": [],
   "source": [
    "frames = [df_recommended, df_not_recommended]\n",
    "df = pd.concat(frames)"
   ]
  },
  {
   "cell_type": "code",
   "execution_count": 5,
   "metadata": {},
   "outputs": [
    {
     "data": {
      "text/html": [
       "<div>\n",
       "<style scoped>\n",
       "    .dataframe tbody tr th:only-of-type {\n",
       "        vertical-align: middle;\n",
       "    }\n",
       "\n",
       "    .dataframe tbody tr th {\n",
       "        vertical-align: top;\n",
       "    }\n",
       "\n",
       "    .dataframe thead th {\n",
       "        text-align: right;\n",
       "    }\n",
       "</style>\n",
       "<table border=\"1\" class=\"dataframe\">\n",
       "  <thead>\n",
       "    <tr style=\"text-align: right;\">\n",
       "      <th></th>\n",
       "      <th>SNo</th>\n",
       "      <th>Review_Id</th>\n",
       "      <th>User_Id</th>\n",
       "      <th>Review_Text</th>\n",
       "      <th>label</th>\n",
       "    </tr>\n",
       "  </thead>\n",
       "  <tbody>\n",
       "    <tr>\n",
       "      <th>0</th>\n",
       "      <td>0</td>\n",
       "      <td>tfR6cUgapL4qa0ayD-MXJQ</td>\n",
       "      <td>YEDnTf7d6RyXKEHDGqi9tg</td>\n",
       "      <td>Toronto hidden gem alert! I am so glad that I ...</td>\n",
       "      <td>1</td>\n",
       "    </tr>\n",
       "    <tr>\n",
       "      <th>1</th>\n",
       "      <td>1</td>\n",
       "      <td>b9FySx_x4XeBXzlVU3OC9w</td>\n",
       "      <td>waaZROsfwU7mKcaW8cINtg</td>\n",
       "      <td>We came here in search for a new Italian resta...</td>\n",
       "      <td>1</td>\n",
       "    </tr>\n",
       "    <tr>\n",
       "      <th>2</th>\n",
       "      <td>2</td>\n",
       "      <td>ER-O3ogvbFnKq2TUWPxhxQ</td>\n",
       "      <td>6oRhkk76MBoG3ky3AaBMsA</td>\n",
       "      <td>I had the worst service I could ever had in to...</td>\n",
       "      <td>1</td>\n",
       "    </tr>\n",
       "    <tr>\n",
       "      <th>3</th>\n",
       "      <td>3</td>\n",
       "      <td>GLj88OeSVnOH48u0lQ7JBw</td>\n",
       "      <td>OucFS92pVsGBwzELoBnWvA</td>\n",
       "      <td>Great experience tucked away in a side street ...</td>\n",
       "      <td>1</td>\n",
       "    </tr>\n",
       "    <tr>\n",
       "      <th>4</th>\n",
       "      <td>4</td>\n",
       "      <td>bBYMeN4NZBhkhmrIPBVEBA</td>\n",
       "      <td>KgFOJnWXxVuz0b-xfo6jjw</td>\n",
       "      <td>I was looking for a new Italian restaurant aro...</td>\n",
       "      <td>1</td>\n",
       "    </tr>\n",
       "  </tbody>\n",
       "</table>\n",
       "</div>"
      ],
      "text/plain": [
       "   SNo               Review_Id                 User_Id  \\\n",
       "0    0  tfR6cUgapL4qa0ayD-MXJQ  YEDnTf7d6RyXKEHDGqi9tg   \n",
       "1    1  b9FySx_x4XeBXzlVU3OC9w  waaZROsfwU7mKcaW8cINtg   \n",
       "2    2  ER-O3ogvbFnKq2TUWPxhxQ  6oRhkk76MBoG3ky3AaBMsA   \n",
       "3    3  GLj88OeSVnOH48u0lQ7JBw  OucFS92pVsGBwzELoBnWvA   \n",
       "4    4  bBYMeN4NZBhkhmrIPBVEBA  KgFOJnWXxVuz0b-xfo6jjw   \n",
       "\n",
       "                                         Review_Text  label  \n",
       "0  Toronto hidden gem alert! I am so glad that I ...      1  \n",
       "1  We came here in search for a new Italian resta...      1  \n",
       "2  I had the worst service I could ever had in to...      1  \n",
       "3  Great experience tucked away in a side street ...      1  \n",
       "4  I was looking for a new Italian restaurant aro...      1  "
      ]
     },
     "execution_count": 5,
     "metadata": {},
     "output_type": "execute_result"
    }
   ],
   "source": [
    "df.head()"
   ]
  },
  {
   "cell_type": "code",
   "execution_count": 6,
   "metadata": {},
   "outputs": [
    {
     "data": {
      "text/plain": [
       "False"
      ]
     },
     "execution_count": 6,
     "metadata": {},
     "output_type": "execute_result"
    }
   ],
   "source": [
    "df.isnull().values.any()"
   ]
  },
  {
   "cell_type": "code",
   "execution_count": 118,
   "metadata": {},
   "outputs": [],
   "source": [
    "def splitData(X, y, testSize):\n",
    "    #X = np.array(df['text'])\n",
    "    #y = np.array(df['label'])\n",
    "    sss = StratifiedShuffleSplit(n_splits=1, test_size=testSize, random_state=0)\n",
    "    sss.get_n_splits(X, y)\n",
    "    \n",
    "    for train_index, test_index in sss.split(X, y):\n",
    "        X_train, X_test = X[train_index], X[test_index]\n",
    "        y_train, y_test = y[train_index], y[test_index]\n",
    "        \n",
    "    return X_train, y_train, X_test, y_test"
   ]
  },
  {
   "cell_type": "code",
   "execution_count": 21,
   "metadata": {},
   "outputs": [],
   "source": [
    "df['words'] = [text_to_word_sequence(text) for text in df['Review_Text']]"
   ]
  },
  {
   "cell_type": "code",
   "execution_count": 22,
   "metadata": {},
   "outputs": [
    {
     "data": {
      "text/html": [
       "<div>\n",
       "<style scoped>\n",
       "    .dataframe tbody tr th:only-of-type {\n",
       "        vertical-align: middle;\n",
       "    }\n",
       "\n",
       "    .dataframe tbody tr th {\n",
       "        vertical-align: top;\n",
       "    }\n",
       "\n",
       "    .dataframe thead th {\n",
       "        text-align: right;\n",
       "    }\n",
       "</style>\n",
       "<table border=\"1\" class=\"dataframe\">\n",
       "  <thead>\n",
       "    <tr style=\"text-align: right;\">\n",
       "      <th></th>\n",
       "      <th>SNo</th>\n",
       "      <th>Review_Id</th>\n",
       "      <th>User_Id</th>\n",
       "      <th>Review_Text</th>\n",
       "      <th>label</th>\n",
       "      <th>words</th>\n",
       "    </tr>\n",
       "  </thead>\n",
       "  <tbody>\n",
       "    <tr>\n",
       "      <th>0</th>\n",
       "      <td>0</td>\n",
       "      <td>tfR6cUgapL4qa0ayD-MXJQ</td>\n",
       "      <td>YEDnTf7d6RyXKEHDGqi9tg</td>\n",
       "      <td>Toronto hidden gem alert! I am so glad that I ...</td>\n",
       "      <td>1</td>\n",
       "      <td>[toronto, hidden, gem, alert, i, am, so, glad,...</td>\n",
       "    </tr>\n",
       "    <tr>\n",
       "      <th>1</th>\n",
       "      <td>1</td>\n",
       "      <td>b9FySx_x4XeBXzlVU3OC9w</td>\n",
       "      <td>waaZROsfwU7mKcaW8cINtg</td>\n",
       "      <td>We came here in search for a new Italian resta...</td>\n",
       "      <td>1</td>\n",
       "      <td>[we, came, here, in, search, for, a, new, ital...</td>\n",
       "    </tr>\n",
       "    <tr>\n",
       "      <th>2</th>\n",
       "      <td>2</td>\n",
       "      <td>ER-O3ogvbFnKq2TUWPxhxQ</td>\n",
       "      <td>6oRhkk76MBoG3ky3AaBMsA</td>\n",
       "      <td>I had the worst service I could ever had in to...</td>\n",
       "      <td>1</td>\n",
       "      <td>[i, had, the, worst, service, i, could, ever, ...</td>\n",
       "    </tr>\n",
       "    <tr>\n",
       "      <th>3</th>\n",
       "      <td>3</td>\n",
       "      <td>GLj88OeSVnOH48u0lQ7JBw</td>\n",
       "      <td>OucFS92pVsGBwzELoBnWvA</td>\n",
       "      <td>Great experience tucked away in a side street ...</td>\n",
       "      <td>1</td>\n",
       "      <td>[great, experience, tucked, away, in, a, side,...</td>\n",
       "    </tr>\n",
       "    <tr>\n",
       "      <th>4</th>\n",
       "      <td>4</td>\n",
       "      <td>bBYMeN4NZBhkhmrIPBVEBA</td>\n",
       "      <td>KgFOJnWXxVuz0b-xfo6jjw</td>\n",
       "      <td>I was looking for a new Italian restaurant aro...</td>\n",
       "      <td>1</td>\n",
       "      <td>[i, was, looking, for, a, new, italian, restau...</td>\n",
       "    </tr>\n",
       "  </tbody>\n",
       "</table>\n",
       "</div>"
      ],
      "text/plain": [
       "   SNo               Review_Id                 User_Id  \\\n",
       "0    0  tfR6cUgapL4qa0ayD-MXJQ  YEDnTf7d6RyXKEHDGqi9tg   \n",
       "1    1  b9FySx_x4XeBXzlVU3OC9w  waaZROsfwU7mKcaW8cINtg   \n",
       "2    2  ER-O3ogvbFnKq2TUWPxhxQ  6oRhkk76MBoG3ky3AaBMsA   \n",
       "3    3  GLj88OeSVnOH48u0lQ7JBw  OucFS92pVsGBwzELoBnWvA   \n",
       "4    4  bBYMeN4NZBhkhmrIPBVEBA  KgFOJnWXxVuz0b-xfo6jjw   \n",
       "\n",
       "                                         Review_Text  label  \\\n",
       "0  Toronto hidden gem alert! I am so glad that I ...      1   \n",
       "1  We came here in search for a new Italian resta...      1   \n",
       "2  I had the worst service I could ever had in to...      1   \n",
       "3  Great experience tucked away in a side street ...      1   \n",
       "4  I was looking for a new Italian restaurant aro...      1   \n",
       "\n",
       "                                               words  \n",
       "0  [toronto, hidden, gem, alert, i, am, so, glad,...  \n",
       "1  [we, came, here, in, search, for, a, new, ital...  \n",
       "2  [i, had, the, worst, service, i, could, ever, ...  \n",
       "3  [great, experience, tucked, away, in, a, side,...  \n",
       "4  [i, was, looking, for, a, new, italian, restau...  "
      ]
     },
     "execution_count": 22,
     "metadata": {},
     "output_type": "execute_result"
    }
   ],
   "source": [
    "df.head()"
   ]
  },
  {
   "cell_type": "code",
   "execution_count": 86,
   "metadata": {},
   "outputs": [],
   "source": [
    "vocab_size = df['words'].map(len).max()\n",
    "max_len = round(vocab_size*1.3)"
   ]
  },
  {
   "cell_type": "code",
   "execution_count": 78,
   "metadata": {},
   "outputs": [],
   "source": [
    "df['hashed_text'] = [one_hot(text, max_len) for text in df['Review_Text']]"
   ]
  },
  {
   "cell_type": "code",
   "execution_count": 99,
   "metadata": {},
   "outputs": [],
   "source": [
    "def toint(x):\n",
    "    result=[]\n",
    "    for i in x:\n",
    "        result.append(int(i))\n",
    "    return result"
   ]
  },
  {
   "cell_type": "code",
   "execution_count": 102,
   "metadata": {},
   "outputs": [],
   "source": [
    "df['text'] = df['hashed_text'].map(toint)"
   ]
  },
  {
   "cell_type": "code",
   "execution_count": 103,
   "metadata": {},
   "outputs": [
    {
     "data": {
      "text/html": [
       "<div>\n",
       "<style scoped>\n",
       "    .dataframe tbody tr th:only-of-type {\n",
       "        vertical-align: middle;\n",
       "    }\n",
       "\n",
       "    .dataframe tbody tr th {\n",
       "        vertical-align: top;\n",
       "    }\n",
       "\n",
       "    .dataframe thead th {\n",
       "        text-align: right;\n",
       "    }\n",
       "</style>\n",
       "<table border=\"1\" class=\"dataframe\">\n",
       "  <thead>\n",
       "    <tr style=\"text-align: right;\">\n",
       "      <th></th>\n",
       "      <th>SNo</th>\n",
       "      <th>Review_Id</th>\n",
       "      <th>User_Id</th>\n",
       "      <th>Review_Text</th>\n",
       "      <th>label</th>\n",
       "      <th>words</th>\n",
       "      <th>hashed_text</th>\n",
       "      <th>text</th>\n",
       "    </tr>\n",
       "  </thead>\n",
       "  <tbody>\n",
       "    <tr>\n",
       "      <th>0</th>\n",
       "      <td>0</td>\n",
       "      <td>tfR6cUgapL4qa0ayD-MXJQ</td>\n",
       "      <td>YEDnTf7d6RyXKEHDGqi9tg</td>\n",
       "      <td>Toronto hidden gem alert! I am so glad that I ...</td>\n",
       "      <td>1</td>\n",
       "      <td>[toronto, hidden, gem, alert, i, am, so, glad,...</td>\n",
       "      <td>[1185.0, 1129.0, 477.0, 301.0, 929.0, 667.0, 9...</td>\n",
       "      <td>[1185, 1129, 477, 301, 929, 667, 961, 291, 105...</td>\n",
       "    </tr>\n",
       "    <tr>\n",
       "      <th>1</th>\n",
       "      <td>1</td>\n",
       "      <td>b9FySx_x4XeBXzlVU3OC9w</td>\n",
       "      <td>waaZROsfwU7mKcaW8cINtg</td>\n",
       "      <td>We came here in search for a new Italian resta...</td>\n",
       "      <td>1</td>\n",
       "      <td>[we, came, here, in, search, for, a, new, ital...</td>\n",
       "      <td>[407.0, 39.0, 141.0, 919.0, 691.0, 381.0, 291....</td>\n",
       "      <td>[407, 39, 141, 919, 691, 381, 291, 567, 167, 6...</td>\n",
       "    </tr>\n",
       "    <tr>\n",
       "      <th>2</th>\n",
       "      <td>2</td>\n",
       "      <td>ER-O3ogvbFnKq2TUWPxhxQ</td>\n",
       "      <td>6oRhkk76MBoG3ky3AaBMsA</td>\n",
       "      <td>I had the worst service I could ever had in to...</td>\n",
       "      <td>1</td>\n",
       "      <td>[i, had, the, worst, service, i, could, ever, ...</td>\n",
       "      <td>[929.0, 731.0, 371.0, 313.0, 949.0, 929.0, 111...</td>\n",
       "      <td>[929, 731, 371, 313, 949, 929, 1111, 315, 731,...</td>\n",
       "    </tr>\n",
       "    <tr>\n",
       "      <th>3</th>\n",
       "      <td>3</td>\n",
       "      <td>GLj88OeSVnOH48u0lQ7JBw</td>\n",
       "      <td>OucFS92pVsGBwzELoBnWvA</td>\n",
       "      <td>Great experience tucked away in a side street ...</td>\n",
       "      <td>1</td>\n",
       "      <td>[great, experience, tucked, away, in, a, side,...</td>\n",
       "      <td>[815.0, 85.0, 833.0, 223.0, 919.0, 291.0, 609....</td>\n",
       "      <td>[815, 85, 833, 223, 919, 291, 609, 785, 1021, ...</td>\n",
       "    </tr>\n",
       "    <tr>\n",
       "      <th>4</th>\n",
       "      <td>4</td>\n",
       "      <td>bBYMeN4NZBhkhmrIPBVEBA</td>\n",
       "      <td>KgFOJnWXxVuz0b-xfo6jjw</td>\n",
       "      <td>I was looking for a new Italian restaurant aro...</td>\n",
       "      <td>1</td>\n",
       "      <td>[i, was, looking, for, a, new, italian, restau...</td>\n",
       "      <td>[929.0, 247.0, 687.0, 381.0, 291.0, 567.0, 167...</td>\n",
       "      <td>[929, 247, 687, 381, 291, 567, 167, 637, 379, ...</td>\n",
       "    </tr>\n",
       "  </tbody>\n",
       "</table>\n",
       "</div>"
      ],
      "text/plain": [
       "   SNo               Review_Id                 User_Id  \\\n",
       "0    0  tfR6cUgapL4qa0ayD-MXJQ  YEDnTf7d6RyXKEHDGqi9tg   \n",
       "1    1  b9FySx_x4XeBXzlVU3OC9w  waaZROsfwU7mKcaW8cINtg   \n",
       "2    2  ER-O3ogvbFnKq2TUWPxhxQ  6oRhkk76MBoG3ky3AaBMsA   \n",
       "3    3  GLj88OeSVnOH48u0lQ7JBw  OucFS92pVsGBwzELoBnWvA   \n",
       "4    4  bBYMeN4NZBhkhmrIPBVEBA  KgFOJnWXxVuz0b-xfo6jjw   \n",
       "\n",
       "                                         Review_Text  label  \\\n",
       "0  Toronto hidden gem alert! I am so glad that I ...      1   \n",
       "1  We came here in search for a new Italian resta...      1   \n",
       "2  I had the worst service I could ever had in to...      1   \n",
       "3  Great experience tucked away in a side street ...      1   \n",
       "4  I was looking for a new Italian restaurant aro...      1   \n",
       "\n",
       "                                               words  \\\n",
       "0  [toronto, hidden, gem, alert, i, am, so, glad,...   \n",
       "1  [we, came, here, in, search, for, a, new, ital...   \n",
       "2  [i, had, the, worst, service, i, could, ever, ...   \n",
       "3  [great, experience, tucked, away, in, a, side,...   \n",
       "4  [i, was, looking, for, a, new, italian, restau...   \n",
       "\n",
       "                                         hashed_text  \\\n",
       "0  [1185.0, 1129.0, 477.0, 301.0, 929.0, 667.0, 9...   \n",
       "1  [407.0, 39.0, 141.0, 919.0, 691.0, 381.0, 291....   \n",
       "2  [929.0, 731.0, 371.0, 313.0, 949.0, 929.0, 111...   \n",
       "3  [815.0, 85.0, 833.0, 223.0, 919.0, 291.0, 609....   \n",
       "4  [929.0, 247.0, 687.0, 381.0, 291.0, 567.0, 167...   \n",
       "\n",
       "                                                text  \n",
       "0  [1185, 1129, 477, 301, 929, 667, 961, 291, 105...  \n",
       "1  [407, 39, 141, 919, 691, 381, 291, 567, 167, 6...  \n",
       "2  [929, 731, 371, 313, 949, 929, 1111, 315, 731,...  \n",
       "3  [815, 85, 833, 223, 919, 291, 609, 785, 1021, ...  \n",
       "4  [929, 247, 687, 381, 291, 567, 167, 637, 379, ...  "
      ]
     },
     "execution_count": 103,
     "metadata": {},
     "output_type": "execute_result"
    }
   ],
   "source": [
    "df.head()"
   ]
  },
  {
   "cell_type": "markdown",
   "metadata": {},
   "source": [
    "### Prepare the data\n",
    "- The reviews—the arrays of integers—must be converted to tensors before fed into the neural network.\n",
    "- Pad the arrays so they all have the same length, then create an integer tensor of shape max_length * num_reviews. We can use an embedding layer capable of handling this shape as the first layer in our network."
   ]
  },
  {
   "cell_type": "code",
   "execution_count": 128,
   "metadata": {},
   "outputs": [],
   "source": [
    "train_data, train_label, test_data, test_label = splitData(np.array(df['text']), np.array(df['label']), testSize=0.3)\n",
    "train_data, train_label, val_data, val_label = splitData(train_data, train_label, 0.3)"
   ]
  },
  {
   "cell_type": "code",
   "execution_count": 129,
   "metadata": {},
   "outputs": [
    {
     "data": {
      "text/plain": [
       "[965, 1023, 957, 197, 539, 379, 637, 371, 1177, 203, 9]"
      ]
     },
     "execution_count": 129,
     "metadata": {},
     "output_type": "execute_result"
    }
   ],
   "source": [
    "train_data[0]"
   ]
  },
  {
   "cell_type": "code",
   "execution_count": 130,
   "metadata": {},
   "outputs": [
    {
     "data": {
      "text/plain": [
       "(11, 156, 57)"
      ]
     },
     "execution_count": 130,
     "metadata": {},
     "output_type": "execute_result"
    }
   ],
   "source": [
    "len(train_data[0]), len(test_data[0]), len(val_data[0])"
   ]
  },
  {
   "cell_type": "code",
   "execution_count": 131,
   "metadata": {},
   "outputs": [
    {
     "data": {
      "text/plain": [
       "1191.0"
      ]
     },
     "execution_count": 131,
     "metadata": {},
     "output_type": "execute_result"
    }
   ],
   "source": [
    "max_len"
   ]
  },
  {
   "cell_type": "code",
   "execution_count": 132,
   "metadata": {},
   "outputs": [],
   "source": [
    "train_data = keras.preprocessing.sequence.pad_sequences(train_data,\n",
    "                                                        value=0,\n",
    "                                                        padding='post',\n",
    "                                                        maxlen=int(max_len))\n",
    "\n",
    "val_data = keras.preprocessing.sequence.pad_sequences(val_data,\n",
    "                                                        value=0,\n",
    "                                                        padding='post',\n",
    "                                                        maxlen=int(max_len))\n",
    "\n",
    "test_data = keras.preprocessing.sequence.pad_sequences(test_data,\n",
    "                                                       value=0,\n",
    "                                                       padding='post',\n",
    "                                                       maxlen=int(max_len))"
   ]
  },
  {
   "cell_type": "code",
   "execution_count": 133,
   "metadata": {},
   "outputs": [
    {
     "data": {
      "text/plain": [
       "array([ 965, 1023,  957, ...,    0,    0,    0])"
      ]
     },
     "execution_count": 133,
     "metadata": {},
     "output_type": "execute_result"
    }
   ],
   "source": [
    "train_data[0]"
   ]
  },
  {
   "cell_type": "code",
   "execution_count": 134,
   "metadata": {},
   "outputs": [
    {
     "data": {
      "text/plain": [
       "(1191, 1191, 1191)"
      ]
     },
     "execution_count": 134,
     "metadata": {},
     "output_type": "execute_result"
    }
   ],
   "source": [
    "len(train_data[0]), len(test_data[0]), len(val_data[0])"
   ]
  },
  {
   "cell_type": "code",
   "execution_count": 140,
   "metadata": {},
   "outputs": [
    {
     "name": "stdout",
     "output_type": "stream",
     "text": [
      "_________________________________________________________________\n",
      "Layer (type)                 Output Shape              Param #   \n",
      "=================================================================\n",
      "dense_3 (Dense)              (None, 50)                59600     \n",
      "_________________________________________________________________\n",
      "dropout_1 (Dropout)          (None, 50)                0         \n",
      "_________________________________________________________________\n",
      "dense_4 (Dense)              (None, 50)                2550      \n",
      "_________________________________________________________________\n",
      "dropout_2 (Dropout)          (None, 50)                0         \n",
      "_________________________________________________________________\n",
      "dense_5 (Dense)              (None, 50)                2550      \n",
      "_________________________________________________________________\n",
      "dense_6 (Dense)              (None, 1)                 51        \n",
      "=================================================================\n",
      "Total params: 64,751\n",
      "Trainable params: 64,751\n",
      "Non-trainable params: 0\n",
      "_________________________________________________________________\n"
     ]
    }
   ],
   "source": [
    "model = keras.Sequential()\n",
    "\n",
    "# Input - Layer\n",
    "model.add(layers.Dense(50, activation = \"relu\", input_shape=(int(max_len), )))\n",
    "# Hidden - Layers\n",
    "model.add(layers.Dropout(0.3, noise_shape=None, seed=None))\n",
    "model.add(layers.Dense(50, activation = \"relu\"))\n",
    "model.add(layers.Dropout(0.2, noise_shape=None, seed=None))\n",
    "model.add(layers.Dense(50, activation = \"relu\"))\n",
    "# Output- Layer\n",
    "model.add(layers.Dense(1, activation = \"sigmoid\"))\n",
    "\n",
    "model.summary()"
   ]
  },
  {
   "cell_type": "code",
   "execution_count": 141,
   "metadata": {},
   "outputs": [],
   "source": [
    "model.compile(optimizer='adam',\n",
    "              loss='binary_crossentropy',\n",
    "              metrics=['accuracy'])"
   ]
  },
  {
   "cell_type": "code",
   "execution_count": 161,
   "metadata": {},
   "outputs": [
    {
     "name": "stdout",
     "output_type": "stream",
     "text": [
      "Train on 2165 samples, validate on 928 samples\n",
      "Epoch 1/20\n",
      "2165/2165 [==============================] - 0s 41us/step - loss: 3.9519 - acc: 0.7515 - val_loss: 3.9560 - val_acc: 0.7511\n",
      "Epoch 2/20\n",
      "2165/2165 [==============================] - 0s 40us/step - loss: 3.9489 - acc: 0.7506 - val_loss: 3.9552 - val_acc: 0.7522\n",
      "Epoch 3/20\n",
      "2165/2165 [==============================] - 0s 45us/step - loss: 3.9158 - acc: 0.7538 - val_loss: 3.9552 - val_acc: 0.7522\n",
      "Epoch 4/20\n",
      "2165/2165 [==============================] - 0s 45us/step - loss: 3.9245 - acc: 0.7533 - val_loss: 3.9552 - val_acc: 0.7522\n",
      "Epoch 5/20\n",
      "2165/2165 [==============================] - 0s 42us/step - loss: 3.9243 - acc: 0.7533 - val_loss: 3.9552 - val_acc: 0.7522\n",
      "Epoch 6/20\n",
      "2165/2165 [==============================] - 0s 43us/step - loss: 3.9267 - acc: 0.7524 - val_loss: 3.9552 - val_acc: 0.7522\n",
      "Epoch 7/20\n",
      "2165/2165 [==============================] - 0s 44us/step - loss: 3.9224 - acc: 0.7529 - val_loss: 3.9711 - val_acc: 0.7500\n",
      "Epoch 8/20\n",
      "2165/2165 [==============================] - ETA: 0s - loss: 3.9591 - acc: 0.751 - 0s 43us/step - loss: 3.9093 - acc: 0.7538 - val_loss: 3.9747 - val_acc: 0.7500\n",
      "Epoch 9/20\n",
      "2165/2165 [==============================] - 0s 43us/step - loss: 3.9231 - acc: 0.7524 - val_loss: 3.9552 - val_acc: 0.7522\n",
      "Epoch 10/20\n",
      "2165/2165 [==============================] - 0s 44us/step - loss: 3.9922 - acc: 0.7478 - val_loss: 3.9662 - val_acc: 0.7511\n",
      "Epoch 11/20\n",
      "2165/2165 [==============================] - 0s 43us/step - loss: 3.9961 - acc: 0.7487 - val_loss: 3.9605 - val_acc: 0.7511\n",
      "Epoch 12/20\n",
      "2165/2165 [==============================] - 0s 43us/step - loss: 4.0150 - acc: 0.7478 - val_loss: 3.9801 - val_acc: 0.7489\n",
      "Epoch 13/20\n",
      "2165/2165 [==============================] - 0s 42us/step - loss: 3.9510 - acc: 0.7515 - val_loss: 3.9775 - val_acc: 0.7500\n",
      "Epoch 14/20\n",
      "2165/2165 [==============================] - 0s 45us/step - loss: 4.0000 - acc: 0.7492 - val_loss: 4.0167 - val_acc: 0.7478\n",
      "Epoch 15/20\n",
      "2165/2165 [==============================] - 0s 44us/step - loss: 3.9459 - acc: 0.7520 - val_loss: 4.0032 - val_acc: 0.7489\n",
      "Epoch 16/20\n",
      "2165/2165 [==============================] - 0s 44us/step - loss: 4.0298 - acc: 0.7464 - val_loss: 4.0102 - val_acc: 0.7478\n",
      "Epoch 17/20\n",
      "2165/2165 [==============================] - 0s 40us/step - loss: 3.9356 - acc: 0.7529 - val_loss: 4.0079 - val_acc: 0.7489\n",
      "Epoch 18/20\n",
      "2165/2165 [==============================] - 0s 42us/step - loss: 3.9813 - acc: 0.7501 - val_loss: 4.0130 - val_acc: 0.7478\n",
      "Epoch 19/20\n",
      "2165/2165 [==============================] - 0s 43us/step - loss: 4.0154 - acc: 0.7473 - val_loss: 3.9724 - val_acc: 0.7500\n",
      "Epoch 20/20\n",
      "2165/2165 [==============================] - 0s 43us/step - loss: 3.9765 - acc: 0.7506 - val_loss: 3.9438 - val_acc: 0.7511\n"
     ]
    }
   ],
   "source": [
    "history = model.fit(train_data,\n",
    "                    train_label,\n",
    "                    epochs=20,\n",
    "                    batch_size=200,\n",
    "                    validation_data=(val_data, val_label),\n",
    "                    verbose=1)"
   ]
  },
  {
   "cell_type": "code",
   "execution_count": 162,
   "metadata": {},
   "outputs": [
    {
     "name": "stdout",
     "output_type": "stream",
     "text": [
      "1326/1326 [==============================] - 0s 47us/step\n",
      "[3.9933094791337553, 0.7488687784603458]\n"
     ]
    }
   ],
   "source": [
    "results = model.evaluate(test_data, test_label)\n",
    "print(results)"
   ]
  },
  {
   "cell_type": "code",
   "execution_count": 163,
   "metadata": {},
   "outputs": [
    {
     "name": "stdout",
     "output_type": "stream",
     "text": [
      "Validation-Accuracy: 0.7503771507020653\n"
     ]
    }
   ],
   "source": [
    "print(\"Validation-Accuracy:\", np.mean(history.history[\"val_acc\"]))"
   ]
  },
  {
   "cell_type": "code",
   "execution_count": 164,
   "metadata": {},
   "outputs": [
    {
     "data": {
      "text/plain": [
       "dict_keys(['val_loss', 'val_acc', 'loss', 'acc'])"
      ]
     },
     "execution_count": 164,
     "metadata": {},
     "output_type": "execute_result"
    }
   ],
   "source": [
    "history_dict = history.history\n",
    "history_dict.keys()"
   ]
  },
  {
   "cell_type": "code",
   "execution_count": 165,
   "metadata": {},
   "outputs": [
    {
     "data": {
      "image/png": "[encoded data removed]",
      "text/plain": [
       "<Figure size 432x288 with 1 Axes>"
      ]
     },
     "metadata": {},
     "output_type": "display_data"
    }
   ],
   "source": [
    "import matplotlib.pyplot as plt\n",
    "\n",
    "acc = history_dict['acc']\n",
    "val_acc = history_dict['val_acc']\n",
    "loss = history_dict['loss']\n",
    "val_loss = history_dict['val_loss']\n",
    "\n",
    "epochs = range(1, len(acc) + 1)\n",
    "\n",
    "# \"bo\" is for \"blue dot\"\n",
    "plt.plot(epochs, loss, 'bo', label='Training loss')\n",
    "# b is for \"solid blue line\"\n",
    "plt.plot(epochs, val_loss, 'b', label='Validation loss')\n",
    "plt.title('Training and validation loss')\n",
    "plt.xlabel('Epochs')\n",
    "plt.ylabel('Loss')\n",
    "plt.legend()\n",
    "\n",
    "plt.show()"
   ]
  },
  {
   "cell_type": "code",
   "execution_count": 166,
   "metadata": {},
   "outputs": [
    {
     "data": {
      "image/png": "[encoded data removed]",
      "text/plain": [
       "<Figure size 432x288 with 1 Axes>"
      ]
     },
     "metadata": {},
     "output_type": "display_data"
    }
   ],
   "source": [
    "plt.clf()   # clear figure\n",
    "\n",
    "plt.plot(epochs, acc, 'bo', label='Training acc')\n",
    "plt.plot(epochs, val_acc, 'b', label='Validation acc')\n",
    "plt.title('Training and validation accuracy')\n",
    "plt.xlabel('Epochs')\n",
    "plt.ylabel('Accuracy')\n",
    "plt.legend()\n",
    "\n",
    "plt.show()"
   ]
  },
  {
   "cell_type": "code",
   "execution_count": null,
   "metadata": {},
   "outputs": [],
   "source": []
  }
 ],
 "metadata": {
  "kernelspec": {
   "display_name": "Python 3",
   "language": "python",
   "name": "python3"
  },
  "language_info": {
   "codemirror_mode": {
    "name": "ipython",
    "version": 3
   },
   "file_extension": ".py",
   "mimetype": "text/x-python",
   "name": "python",
   "nbconvert_exporter": "python",
   "pygments_lexer": "ipython3",
   "version": "3.6.5"
  }
 },
 "nbformat": 4,
 "nbformat_minor": 2
}
