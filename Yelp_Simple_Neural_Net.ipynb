{
 "cells": [
  {
   "cell_type": "code",
   "execution_count": 1,
   "metadata": {},
   "outputs": [
    {
     "name": "stderr",
     "output_type": "stream",
     "text": [
      "C:\\Anaconda3\\lib\\site-packages\\h5py\\__init__.py:36: FutureWarning: Conversion of the second argument of issubdtype from `float` to `np.floating` is deprecated. In future, it will be treated as `np.float64 == np.dtype(float).type`.\n",
      "  from ._conv import register_converters as _register_converters\n",
      "Using TensorFlow backend.\n"
     ]
    }
   ],
   "source": [
    "import os\n",
    "import pandas as pd\n",
    "import numpy as np\n",
    "import keras\n",
    "from keras.preprocessing.text import hashing_trick\n",
    "from keras.preprocessing.text import text_to_word_sequence\n",
    "from keras.preprocessing.text import one_hot\n",
    "from keras import layers\n",
    "from sklearn.model_selection import StratifiedShuffleSplit\n",
    "from __future__ import absolute_import, division, print_function\n",
    "import tensorflow as tf\n",
    "os.chdir('D:\\APDS\\Project\\Yelp\\py workspace')"
   ]
  },
  {
   "cell_type": "code",
   "execution_count": 2,
   "metadata": {},
   "outputs": [],
   "source": [
    "df_recommended = pd.read_csv('..\\\\dataset\\\\RestaurantData\\\\recommended.csv')\n",
    "df_not_recommended = pd.read_csv('..\\\\dataset\\\\RestaurantData\\\\not_recommended.csv')"
   ]
  },
  {
   "cell_type": "code",
   "execution_count": 3,
   "metadata": {},
   "outputs": [],
   "source": [
    "df_recommended['label'] = 1\n",
    "df_not_recommended['label'] = 0"
   ]
  },
  {
   "cell_type": "code",
   "execution_count": 4,
   "metadata": {},
   "outputs": [],
   "source": [
    "frames = [df_recommended, df_not_recommended]\n",
    "df = pd.concat(frames)"
   ]
  },
  {
   "cell_type": "code",
   "execution_count": 5,
   "metadata": {},
   "outputs": [
    {
     "data": {
      "text/html": [
       "<div>\n",
       "<style scoped>\n",
       "    .dataframe tbody tr th:only-of-type {\n",
       "        vertical-align: middle;\n",
       "    }\n",
       "\n",
       "    .dataframe tbody tr th {\n",
       "        vertical-align: top;\n",
       "    }\n",
       "\n",
       "    .dataframe thead th {\n",
       "        text-align: right;\n",
       "    }\n",
       "</style>\n",
       "<table border=\"1\" class=\"dataframe\">\n",
       "  <thead>\n",
       "    <tr style=\"text-align: right;\">\n",
       "      <th></th>\n",
       "      <th>SNo</th>\n",
       "      <th>Review_Id</th>\n",
       "      <th>User_Id</th>\n",
       "      <th>Review_Text</th>\n",
       "      <th>label</th>\n",
       "    </tr>\n",
       "  </thead>\n",
       "  <tbody>\n",
       "    <tr>\n",
       "      <th>0</th>\n",
       "      <td>0</td>\n",
       "      <td>tfR6cUgapL4qa0ayD-MXJQ</td>\n",
       "      <td>YEDnTf7d6RyXKEHDGqi9tg</td>\n",
       "      <td>Toronto hidden gem alert! I am so glad that I ...</td>\n",
       "      <td>1</td>\n",
       "    </tr>\n",
       "    <tr>\n",
       "      <th>1</th>\n",
       "      <td>1</td>\n",
       "      <td>b9FySx_x4XeBXzlVU3OC9w</td>\n",
       "      <td>waaZROsfwU7mKcaW8cINtg</td>\n",
       "      <td>We came here in search for a new Italian resta...</td>\n",
       "      <td>1</td>\n",
       "    </tr>\n",
       "    <tr>\n",
       "      <th>2</th>\n",
       "      <td>2</td>\n",
       "      <td>ER-O3ogvbFnKq2TUWPxhxQ</td>\n",
       "      <td>6oRhkk76MBoG3ky3AaBMsA</td>\n",
       "      <td>I had the worst service I could ever had in to...</td>\n",
       "      <td>1</td>\n",
       "    </tr>\n",
       "    <tr>\n",
       "      <th>3</th>\n",
       "      <td>3</td>\n",
       "      <td>GLj88OeSVnOH48u0lQ7JBw</td>\n",
       "      <td>OucFS92pVsGBwzELoBnWvA</td>\n",
       "      <td>Great experience tucked away in a side street ...</td>\n",
       "      <td>1</td>\n",
       "    </tr>\n",
       "    <tr>\n",
       "      <th>4</th>\n",
       "      <td>4</td>\n",
       "      <td>bBYMeN4NZBhkhmrIPBVEBA</td>\n",
       "      <td>KgFOJnWXxVuz0b-xfo6jjw</td>\n",
       "      <td>I was looking for a new Italian restaurant aro...</td>\n",
       "      <td>1</td>\n",
       "    </tr>\n",
       "  </tbody>\n",
       "</table>\n",
       "</div>"
      ],
      "text/plain": [
       "   SNo               Review_Id                 User_Id  \\\n",
       "0    0  tfR6cUgapL4qa0ayD-MXJQ  YEDnTf7d6RyXKEHDGqi9tg   \n",
       "1    1  b9FySx_x4XeBXzlVU3OC9w  waaZROsfwU7mKcaW8cINtg   \n",
       "2    2  ER-O3ogvbFnKq2TUWPxhxQ  6oRhkk76MBoG3ky3AaBMsA   \n",
       "3    3  GLj88OeSVnOH48u0lQ7JBw  OucFS92pVsGBwzELoBnWvA   \n",
       "4    4  bBYMeN4NZBhkhmrIPBVEBA  KgFOJnWXxVuz0b-xfo6jjw   \n",
       "\n",
       "                                         Review_Text  label  \n",
       "0  Toronto hidden gem alert! I am so glad that I ...      1  \n",
       "1  We came here in search for a new Italian resta...      1  \n",
       "2  I had the worst service I could ever had in to...      1  \n",
       "3  Great experience tucked away in a side street ...      1  \n",
       "4  I was looking for a new Italian restaurant aro...      1  "
      ]
     },
     "execution_count": 5,
     "metadata": {},
     "output_type": "execute_result"
    }
   ],
   "source": [
    "df.head()"
   ]
  },
  {
   "cell_type": "code",
   "execution_count": 6,
   "metadata": {},
   "outputs": [
    {
     "data": {
      "text/plain": [
       "False"
      ]
     },
     "execution_count": 6,
     "metadata": {},
     "output_type": "execute_result"
    }
   ],
   "source": [
    "df.isnull().values.any()"
   ]
  },
  {
   "cell_type": "code",
   "execution_count": 7,
   "metadata": {},
   "outputs": [],
   "source": [
    "#StratifiedShuffleSplit so as to split data with evenly distributed classes in each set\n",
    "def splitData(X, y, testSize):\n",
    "    #X = np.array(df['text'])\n",
    "    #y = np.array(df['label'])\n",
    "    sss = StratifiedShuffleSplit(n_splits=1, test_size=testSize, random_state=0)\n",
    "    sss.get_n_splits(X, y)\n",
    "    \n",
    "    for train_index, test_index in sss.split(X, y):\n",
    "        X_train, X_test = X[train_index], X[test_index]\n",
    "        y_train, y_test = y[train_index], y[test_index]\n",
    "        \n",
    "    return X_train, y_train, X_test, y_test"
   ]
  },
  {
   "cell_type": "code",
   "execution_count": 8,
   "metadata": {},
   "outputs": [],
   "source": [
    "##text_to_word_sequence : Converts a text to a sequence of words (or tokens)\n",
    "df['words'] = [text_to_word_sequence(text) for text in df['Review_Text']]"
   ]
  },
  {
   "cell_type": "code",
   "execution_count": 9,
   "metadata": {},
   "outputs": [
    {
     "data": {
      "text/html": [
       "<div>\n",
       "<style scoped>\n",
       "    .dataframe tbody tr th:only-of-type {\n",
       "        vertical-align: middle;\n",
       "    }\n",
       "\n",
       "    .dataframe tbody tr th {\n",
       "        vertical-align: top;\n",
       "    }\n",
       "\n",
       "    .dataframe thead th {\n",
       "        text-align: right;\n",
       "    }\n",
       "</style>\n",
       "<table border=\"1\" class=\"dataframe\">\n",
       "  <thead>\n",
       "    <tr style=\"text-align: right;\">\n",
       "      <th></th>\n",
       "      <th>SNo</th>\n",
       "      <th>Review_Id</th>\n",
       "      <th>User_Id</th>\n",
       "      <th>Review_Text</th>\n",
       "      <th>label</th>\n",
       "      <th>words</th>\n",
       "    </tr>\n",
       "  </thead>\n",
       "  <tbody>\n",
       "    <tr>\n",
       "      <th>0</th>\n",
       "      <td>0</td>\n",
       "      <td>tfR6cUgapL4qa0ayD-MXJQ</td>\n",
       "      <td>YEDnTf7d6RyXKEHDGqi9tg</td>\n",
       "      <td>Toronto hidden gem alert! I am so glad that I ...</td>\n",
       "      <td>1</td>\n",
       "      <td>[toronto, hidden, gem, alert, i, am, so, glad,...</td>\n",
       "    </tr>\n",
       "    <tr>\n",
       "      <th>1</th>\n",
       "      <td>1</td>\n",
       "      <td>b9FySx_x4XeBXzlVU3OC9w</td>\n",
       "      <td>waaZROsfwU7mKcaW8cINtg</td>\n",
       "      <td>We came here in search for a new Italian resta...</td>\n",
       "      <td>1</td>\n",
       "      <td>[we, came, here, in, search, for, a, new, ital...</td>\n",
       "    </tr>\n",
       "    <tr>\n",
       "      <th>2</th>\n",
       "      <td>2</td>\n",
       "      <td>ER-O3ogvbFnKq2TUWPxhxQ</td>\n",
       "      <td>6oRhkk76MBoG3ky3AaBMsA</td>\n",
       "      <td>I had the worst service I could ever had in to...</td>\n",
       "      <td>1</td>\n",
       "      <td>[i, had, the, worst, service, i, could, ever, ...</td>\n",
       "    </tr>\n",
       "    <tr>\n",
       "      <th>3</th>\n",
       "      <td>3</td>\n",
       "      <td>GLj88OeSVnOH48u0lQ7JBw</td>\n",
       "      <td>OucFS92pVsGBwzELoBnWvA</td>\n",
       "      <td>Great experience tucked away in a side street ...</td>\n",
       "      <td>1</td>\n",
       "      <td>[great, experience, tucked, away, in, a, side,...</td>\n",
       "    </tr>\n",
       "    <tr>\n",
       "      <th>4</th>\n",
       "      <td>4</td>\n",
       "      <td>bBYMeN4NZBhkhmrIPBVEBA</td>\n",
       "      <td>KgFOJnWXxVuz0b-xfo6jjw</td>\n",
       "      <td>I was looking for a new Italian restaurant aro...</td>\n",
       "      <td>1</td>\n",
       "      <td>[i, was, looking, for, a, new, italian, restau...</td>\n",
       "    </tr>\n",
       "  </tbody>\n",
       "</table>\n",
       "</div>"
      ],
      "text/plain": [
       "   SNo               Review_Id                 User_Id  \\\n",
       "0    0  tfR6cUgapL4qa0ayD-MXJQ  YEDnTf7d6RyXKEHDGqi9tg   \n",
       "1    1  b9FySx_x4XeBXzlVU3OC9w  waaZROsfwU7mKcaW8cINtg   \n",
       "2    2  ER-O3ogvbFnKq2TUWPxhxQ  6oRhkk76MBoG3ky3AaBMsA   \n",
       "3    3  GLj88OeSVnOH48u0lQ7JBw  OucFS92pVsGBwzELoBnWvA   \n",
       "4    4  bBYMeN4NZBhkhmrIPBVEBA  KgFOJnWXxVuz0b-xfo6jjw   \n",
       "\n",
       "                                         Review_Text  label  \\\n",
       "0  Toronto hidden gem alert! I am so glad that I ...      1   \n",
       "1  We came here in search for a new Italian resta...      1   \n",
       "2  I had the worst service I could ever had in to...      1   \n",
       "3  Great experience tucked away in a side street ...      1   \n",
       "4  I was looking for a new Italian restaurant aro...      1   \n",
       "\n",
       "                                               words  \n",
       "0  [toronto, hidden, gem, alert, i, am, so, glad,...  \n",
       "1  [we, came, here, in, search, for, a, new, ital...  \n",
       "2  [i, had, the, worst, service, i, could, ever, ...  \n",
       "3  [great, experience, tucked, away, in, a, side,...  \n",
       "4  [i, was, looking, for, a, new, italian, restau...  "
      ]
     },
     "execution_count": 9,
     "metadata": {},
     "output_type": "execute_result"
    }
   ],
   "source": [
    "df.head()"
   ]
  },
  {
   "cell_type": "code",
   "execution_count": 60,
   "metadata": {},
   "outputs": [],
   "source": [
    "vocab_size = df['words'].map(len).max()\n",
    "#taking it to vocab_size*1.3 so as to consider lengths from unseen input texts from test data\n",
    "max_len = round(vocab_size*1.3)\n",
    "NUM_WORDS = int(max_len)"
   ]
  },
  {
   "cell_type": "code",
   "execution_count": 11,
   "metadata": {},
   "outputs": [],
   "source": [
    "#One-hot encodes a text into a list of word indexes of size 'max_len'.\n",
    "df['hashed_text'] = [one_hot(text, NUM_WORDS) for text in df['Review_Text']]"
   ]
  },
  {
   "cell_type": "code",
   "execution_count": 12,
   "metadata": {},
   "outputs": [],
   "source": [
    "#To convert one_hot encoded values to int, as keras.preprocessing.sequence.pad_sequences is throwing an exception for float values\n",
    "def toint(x):\n",
    "    result=[]\n",
    "    for i in x:\n",
    "        result.append(int(i))\n",
    "    return result"
   ]
  },
  {
   "cell_type": "code",
   "execution_count": 13,
   "metadata": {},
   "outputs": [],
   "source": [
    "df['text'] = df['hashed_text'].map(toint)"
   ]
  },
  {
   "cell_type": "code",
   "execution_count": 14,
   "metadata": {},
   "outputs": [
    {
     "data": {
      "text/html": [
       "<div>\n",
       "<style scoped>\n",
       "    .dataframe tbody tr th:only-of-type {\n",
       "        vertical-align: middle;\n",
       "    }\n",
       "\n",
       "    .dataframe tbody tr th {\n",
       "        vertical-align: top;\n",
       "    }\n",
       "\n",
       "    .dataframe thead th {\n",
       "        text-align: right;\n",
       "    }\n",
       "</style>\n",
       "<table border=\"1\" class=\"dataframe\">\n",
       "  <thead>\n",
       "    <tr style=\"text-align: right;\">\n",
       "      <th></th>\n",
       "      <th>SNo</th>\n",
       "      <th>Review_Id</th>\n",
       "      <th>User_Id</th>\n",
       "      <th>Review_Text</th>\n",
       "      <th>label</th>\n",
       "      <th>words</th>\n",
       "      <th>hashed_text</th>\n",
       "      <th>text</th>\n",
       "    </tr>\n",
       "  </thead>\n",
       "  <tbody>\n",
       "    <tr>\n",
       "      <th>0</th>\n",
       "      <td>0</td>\n",
       "      <td>tfR6cUgapL4qa0ayD-MXJQ</td>\n",
       "      <td>YEDnTf7d6RyXKEHDGqi9tg</td>\n",
       "      <td>Toronto hidden gem alert! I am so glad that I ...</td>\n",
       "      <td>1</td>\n",
       "      <td>[toronto, hidden, gem, alert, i, am, so, glad,...</td>\n",
       "      <td>[957.0, 813.0, 1177.0, 255.0, 1167.0, 765.0, 5...</td>\n",
       "      <td>[957, 813, 1177, 255, 1167, 765, 509, 333, 561...</td>\n",
       "    </tr>\n",
       "    <tr>\n",
       "      <th>1</th>\n",
       "      <td>1</td>\n",
       "      <td>b9FySx_x4XeBXzlVU3OC9w</td>\n",
       "      <td>waaZROsfwU7mKcaW8cINtg</td>\n",
       "      <td>We came here in search for a new Italian resta...</td>\n",
       "      <td>1</td>\n",
       "      <td>[we, came, here, in, search, for, a, new, ital...</td>\n",
       "      <td>[1061.0, 1059.0, 929.0, 341.0, 1179.0, 1177.0,...</td>\n",
       "      <td>[1061, 1059, 929, 341, 1179, 1177, 337, 1105, ...</td>\n",
       "    </tr>\n",
       "    <tr>\n",
       "      <th>2</th>\n",
       "      <td>2</td>\n",
       "      <td>ER-O3ogvbFnKq2TUWPxhxQ</td>\n",
       "      <td>6oRhkk76MBoG3ky3AaBMsA</td>\n",
       "      <td>I had the worst service I could ever had in to...</td>\n",
       "      <td>1</td>\n",
       "      <td>[i, had, the, worst, service, i, could, ever, ...</td>\n",
       "      <td>[1167.0, 1023.0, 851.0, 529.0, 521.0, 1167.0, ...</td>\n",
       "      <td>[1167, 1023, 851, 529, 521, 1167, 705, 363, 10...</td>\n",
       "    </tr>\n",
       "    <tr>\n",
       "      <th>3</th>\n",
       "      <td>3</td>\n",
       "      <td>GLj88OeSVnOH48u0lQ7JBw</td>\n",
       "      <td>OucFS92pVsGBwzELoBnWvA</td>\n",
       "      <td>Great experience tucked away in a side street ...</td>\n",
       "      <td>1</td>\n",
       "      <td>[great, experience, tucked, away, in, a, side,...</td>\n",
       "      <td>[583.0, 469.0, 1099.0, 1015.0, 341.0, 337.0, 1...</td>\n",
       "      <td>[583, 469, 1099, 1015, 341, 337, 173, 1053, 10...</td>\n",
       "    </tr>\n",
       "    <tr>\n",
       "      <th>4</th>\n",
       "      <td>4</td>\n",
       "      <td>bBYMeN4NZBhkhmrIPBVEBA</td>\n",
       "      <td>KgFOJnWXxVuz0b-xfo6jjw</td>\n",
       "      <td>I was looking for a new Italian restaurant aro...</td>\n",
       "      <td>1</td>\n",
       "      <td>[i, was, looking, for, a, new, italian, restau...</td>\n",
       "      <td>[1167.0, 41.0, 1179.0, 1177.0, 337.0, 1105.0, ...</td>\n",
       "      <td>[1167, 41, 1179, 1177, 337, 1105, 853, 813, 11...</td>\n",
       "    </tr>\n",
       "  </tbody>\n",
       "</table>\n",
       "</div>"
      ],
      "text/plain": [
       "   SNo               Review_Id                 User_Id  \\\n",
       "0    0  tfR6cUgapL4qa0ayD-MXJQ  YEDnTf7d6RyXKEHDGqi9tg   \n",
       "1    1  b9FySx_x4XeBXzlVU3OC9w  waaZROsfwU7mKcaW8cINtg   \n",
       "2    2  ER-O3ogvbFnKq2TUWPxhxQ  6oRhkk76MBoG3ky3AaBMsA   \n",
       "3    3  GLj88OeSVnOH48u0lQ7JBw  OucFS92pVsGBwzELoBnWvA   \n",
       "4    4  bBYMeN4NZBhkhmrIPBVEBA  KgFOJnWXxVuz0b-xfo6jjw   \n",
       "\n",
       "                                         Review_Text  label  \\\n",
       "0  Toronto hidden gem alert! I am so glad that I ...      1   \n",
       "1  We came here in search for a new Italian resta...      1   \n",
       "2  I had the worst service I could ever had in to...      1   \n",
       "3  Great experience tucked away in a side street ...      1   \n",
       "4  I was looking for a new Italian restaurant aro...      1   \n",
       "\n",
       "                                               words  \\\n",
       "0  [toronto, hidden, gem, alert, i, am, so, glad,...   \n",
       "1  [we, came, here, in, search, for, a, new, ital...   \n",
       "2  [i, had, the, worst, service, i, could, ever, ...   \n",
       "3  [great, experience, tucked, away, in, a, side,...   \n",
       "4  [i, was, looking, for, a, new, italian, restau...   \n",
       "\n",
       "                                         hashed_text  \\\n",
       "0  [957.0, 813.0, 1177.0, 255.0, 1167.0, 765.0, 5...   \n",
       "1  [1061.0, 1059.0, 929.0, 341.0, 1179.0, 1177.0,...   \n",
       "2  [1167.0, 1023.0, 851.0, 529.0, 521.0, 1167.0, ...   \n",
       "3  [583.0, 469.0, 1099.0, 1015.0, 341.0, 337.0, 1...   \n",
       "4  [1167.0, 41.0, 1179.0, 1177.0, 337.0, 1105.0, ...   \n",
       "\n",
       "                                                text  \n",
       "0  [957, 813, 1177, 255, 1167, 765, 509, 333, 561...  \n",
       "1  [1061, 1059, 929, 341, 1179, 1177, 337, 1105, ...  \n",
       "2  [1167, 1023, 851, 529, 521, 1167, 705, 363, 10...  \n",
       "3  [583, 469, 1099, 1015, 341, 337, 173, 1053, 10...  \n",
       "4  [1167, 41, 1179, 1177, 337, 1105, 853, 813, 11...  "
      ]
     },
     "execution_count": 14,
     "metadata": {},
     "output_type": "execute_result"
    }
   ],
   "source": [
    "df.head()"
   ]
  },
  {
   "cell_type": "markdown",
   "metadata": {},
   "source": [
    "### Splitting data to create train, validation & test"
   ]
  },
  {
   "cell_type": "code",
   "execution_count": 15,
   "metadata": {},
   "outputs": [],
   "source": [
    "train_data, train_label, test_data, test_label = splitData(np.array(df['text']), np.array(df['label']), testSize=0.3)\n",
    "train_data, train_label, val_data, val_label = splitData(train_data, train_label, 0.3)"
   ]
  },
  {
   "cell_type": "code",
   "execution_count": 16,
   "metadata": {},
   "outputs": [
    {
     "data": {
      "text/plain": [
       "[87, 1073, 399, 1003, 925, 197, 393, 851, 727, 587, 345]"
      ]
     },
     "execution_count": 16,
     "metadata": {},
     "output_type": "execute_result"
    }
   ],
   "source": [
    "train_data[0]"
   ]
  },
  {
   "cell_type": "code",
   "execution_count": 17,
   "metadata": {},
   "outputs": [
    {
     "data": {
      "text/plain": [
       "(11, 156, 57)"
      ]
     },
     "execution_count": 17,
     "metadata": {},
     "output_type": "execute_result"
    }
   ],
   "source": [
    "#Check length of data. Data length should be same so as to pass it to the network layers.\n",
    "len(train_data[0]), len(test_data[0]), len(val_data[0])"
   ]
  },
  {
   "cell_type": "code",
   "execution_count": 18,
   "metadata": {},
   "outputs": [
    {
     "data": {
      "text/plain": [
       "1191.0"
      ]
     },
     "execution_count": 18,
     "metadata": {},
     "output_type": "execute_result"
    }
   ],
   "source": [
    "max_len"
   ]
  },
  {
   "cell_type": "markdown",
   "metadata": {},
   "source": [
    "### Prepare the data\n",
    "- The reviews—the arrays of integers—must be converted to tensors before fed into the neural network.\n",
    "- Pad the arrays so they all have the same length, then create an integer tensor of shape max_length * num_reviews. We can use an embedding layer capable of handling this shape as the first layer in our network."
   ]
  },
  {
   "cell_type": "code",
   "execution_count": 19,
   "metadata": {},
   "outputs": [],
   "source": [
    "#pad_sequences : Pads sequences to the same length\n",
    "train_data = keras.preprocessing.sequence.pad_sequences(train_data,\n",
    "                                                        value=0,\n",
    "                                                        padding='post',\n",
    "                                                        maxlen=NUM_WORDS)\n",
    "\n",
    "val_data = keras.preprocessing.sequence.pad_sequences(val_data,\n",
    "                                                        value=0,\n",
    "                                                        padding='post',\n",
    "                                                        maxlen=NUM_WORDS)\n",
    "\n",
    "test_data = keras.preprocessing.sequence.pad_sequences(test_data,\n",
    "                                                       value=0,\n",
    "                                                       padding='post',\n",
    "                                                       maxlen=NUM_WORDS)"
   ]
  },
  {
   "cell_type": "code",
   "execution_count": 20,
   "metadata": {},
   "outputs": [
    {
     "data": {
      "text/plain": [
       "array([  87, 1073,  399, ...,    0,    0,    0])"
      ]
     },
     "execution_count": 20,
     "metadata": {},
     "output_type": "execute_result"
    }
   ],
   "source": [
    "train_data[0]"
   ]
  },
  {
   "cell_type": "code",
   "execution_count": 21,
   "metadata": {},
   "outputs": [
    {
     "data": {
      "text/plain": [
       "(1191, 1191, 1191)"
      ]
     },
     "execution_count": 21,
     "metadata": {},
     "output_type": "execute_result"
    }
   ],
   "source": [
    "len(train_data[0]), len(test_data[0]), len(val_data[0])"
   ]
  },
  {
   "cell_type": "code",
   "execution_count": 44,
   "metadata": {},
   "outputs": [
    {
     "name": "stdout",
     "output_type": "stream",
     "text": [
      "_________________________________________________________________\n",
      "Layer (type)                 Output Shape              Param #   \n",
      "=================================================================\n",
      "dense_20 (Dense)             (None, 50)                59600     \n",
      "_________________________________________________________________\n",
      "dense_21 (Dense)             (None, 50)                2550      \n",
      "_________________________________________________________________\n",
      "dense_22 (Dense)             (None, 1)                 51        \n",
      "=================================================================\n",
      "Total params: 62,201\n",
      "Trainable params: 62,201\n",
      "Non-trainable params: 0\n",
      "_________________________________________________________________\n"
     ]
    }
   ],
   "source": [
    "model = keras.Sequential()\n",
    "\n",
    "# Input - Layer\n",
    "model.add(layers.Dense(50, activation = \"relu\", input_shape=(NUM_WORDS, )))\n",
    "# Hidden - Layers\n",
    "model.add(layers.Dense(50, activation = \"relu\"))\n",
    "# Output- Layer\n",
    "model.add(layers.Dense(1, activation = \"sigmoid\"))\n",
    "\n",
    "model.summary()"
   ]
  },
  {
   "cell_type": "code",
   "execution_count": 45,
   "metadata": {},
   "outputs": [],
   "source": [
    "model.compile(optimizer='adam',\n",
    "              loss='binary_crossentropy',\n",
    "              metrics=['accuracy', 'binary_crossentropy'])"
   ]
  },
  {
   "cell_type": "code",
   "execution_count": 46,
   "metadata": {},
   "outputs": [
    {
     "name": "stdout",
     "output_type": "stream",
     "text": [
      "Train on 2165 samples, validate on 928 samples\n",
      "Epoch 1/20\n",
      "2165/2165 [==============================] - 1s 350us/step - loss: 4.6645 - acc: 0.7062 - binary_crossentropy: 4.6645 - val_loss: 4.6567 - val_acc: 0.7069 - val_binary_crossentropy: 4.6567\n",
      "Epoch 2/20\n",
      "2165/2165 [==============================] - 0s 31us/step - loss: 4.6321 - acc: 0.7090 - binary_crossentropy: 4.6321 - val_loss: 4.6381 - val_acc: 0.7080 - val_binary_crossentropy: 4.6381\n",
      "Epoch 3/20\n",
      "2165/2165 [==============================] - 0s 28us/step - loss: 4.6172 - acc: 0.7099 - binary_crossentropy: 4.6172 - val_loss: 4.5464 - val_acc: 0.7112 - val_binary_crossentropy: 4.5464\n",
      "Epoch 4/20\n",
      "2165/2165 [==============================] - 0s 31us/step - loss: 4.5723 - acc: 0.7118 - binary_crossentropy: 4.5723 - val_loss: 4.2295 - val_acc: 0.7284 - val_binary_crossentropy: 4.2295\n",
      "Epoch 5/20\n",
      "2165/2165 [==============================] - 0s 30us/step - loss: 3.9226 - acc: 0.7455 - binary_crossentropy: 3.9226 - val_loss: 3.9872 - val_acc: 0.7446 - val_binary_crossentropy: 3.9872\n",
      "Epoch 6/20\n",
      "2165/2165 [==============================] - 0s 32us/step - loss: 3.8731 - acc: 0.7520 - binary_crossentropy: 3.8731 - val_loss: 3.9744 - val_acc: 0.7478 - val_binary_crossentropy: 3.9744\n",
      "Epoch 7/20\n",
      "2165/2165 [==============================] - 0s 30us/step - loss: 3.8202 - acc: 0.7529 - binary_crossentropy: 3.8202 - val_loss: 3.9888 - val_acc: 0.7468 - val_binary_crossentropy: 3.9888\n",
      "Epoch 8/20\n",
      "2165/2165 [==============================] - 0s 31us/step - loss: 3.7401 - acc: 0.7612 - binary_crossentropy: 3.7401 - val_loss: 3.9885 - val_acc: 0.7457 - val_binary_crossentropy: 3.9885\n",
      "Epoch 9/20\n",
      "2165/2165 [==============================] - 0s 31us/step - loss: 3.7570 - acc: 0.7603 - binary_crossentropy: 3.7570 - val_loss: 3.9918 - val_acc: 0.7446 - val_binary_crossentropy: 3.9918\n",
      "Epoch 10/20\n",
      "2165/2165 [==============================] - 0s 32us/step - loss: 3.7179 - acc: 0.7649 - binary_crossentropy: 3.7179 - val_loss: 3.9913 - val_acc: 0.7446 - val_binary_crossentropy: 3.9913\n",
      "Epoch 11/20\n",
      "2165/2165 [==============================] - 0s 32us/step - loss: 3.7069 - acc: 0.7626 - binary_crossentropy: 3.7069 - val_loss: 4.0144 - val_acc: 0.7414 - val_binary_crossentropy: 4.0144\n",
      "Epoch 12/20\n",
      "2165/2165 [==============================] - 0s 33us/step - loss: 3.6649 - acc: 0.7626 - binary_crossentropy: 3.6649 - val_loss: 4.0777 - val_acc: 0.7338 - val_binary_crossentropy: 4.0777\n",
      "Epoch 13/20\n",
      "2165/2165 [==============================] - 0s 33us/step - loss: 3.6748 - acc: 0.7561 - binary_crossentropy: 3.6748 - val_loss: 3.9664 - val_acc: 0.7425 - val_binary_crossentropy: 3.9664\n",
      "Epoch 14/20\n",
      "2165/2165 [==============================] - 0s 30us/step - loss: 3.6655 - acc: 0.7561 - binary_crossentropy: 3.6655 - val_loss: 4.0834 - val_acc: 0.7338 - val_binary_crossentropy: 4.0834\n",
      "Epoch 15/20\n",
      "2165/2165 [==============================] - 0s 28us/step - loss: 3.5848 - acc: 0.7594 - binary_crossentropy: 3.5848 - val_loss: 4.0110 - val_acc: 0.7371 - val_binary_crossentropy: 4.0110\n",
      "Epoch 16/20\n",
      "2165/2165 [==============================] - 0s 32us/step - loss: 3.4975 - acc: 0.7635 - binary_crossentropy: 3.4975 - val_loss: 4.0278 - val_acc: 0.7360 - val_binary_crossentropy: 4.0278\n",
      "Epoch 17/20\n",
      "2165/2165 [==============================] - 0s 29us/step - loss: 3.3695 - acc: 0.7769 - binary_crossentropy: 3.3695 - val_loss: 3.9585 - val_acc: 0.7360 - val_binary_crossentropy: 3.9585\n",
      "Epoch 18/20\n",
      "2165/2165 [==============================] - 0s 29us/step - loss: 3.2416 - acc: 0.7811 - binary_crossentropy: 3.2416 - val_loss: 3.9688 - val_acc: 0.7241 - val_binary_crossentropy: 3.9688\n",
      "Epoch 19/20\n",
      "2165/2165 [==============================] - 0s 25us/step - loss: 3.1278 - acc: 0.7861 - binary_crossentropy: 3.1278 - val_loss: 3.9544 - val_acc: 0.7241 - val_binary_crossentropy: 3.9544\n",
      "Epoch 20/20\n",
      "2165/2165 [==============================] - 0s 28us/step - loss: 3.1701 - acc: 0.7806 - binary_crossentropy: 3.1701 - val_loss: 3.7790 - val_acc: 0.7381 - val_binary_crossentropy: 3.7790\n"
     ]
    }
   ],
   "source": [
    "history = model.fit(train_data,\n",
    "                    train_label,\n",
    "                    epochs=20,\n",
    "                    batch_size=200,\n",
    "                    validation_data=(val_data, val_label),\n",
    "                    verbose=1)"
   ]
  },
  {
   "cell_type": "code",
   "execution_count": 47,
   "metadata": {},
   "outputs": [
    {
     "name": "stdout",
     "output_type": "stream",
     "text": [
      "Validation-Accuracy: 0.7337823287423315\n"
     ]
    }
   ],
   "source": [
    "print(\"Validation-Accuracy:\", np.mean(history.history[\"val_acc\"]))"
   ]
  },
  {
   "cell_type": "code",
   "execution_count": 48,
   "metadata": {},
   "outputs": [
    {
     "name": "stdout",
     "output_type": "stream",
     "text": [
      "1326/1326 [==============================] - 0s 35us/step\n",
      "[3.654552174549477, 0.7443438912229121, 3.654552174549477]\n"
     ]
    }
   ],
   "source": [
    "results = model.evaluate(test_data, test_label)\n",
    "print(results)"
   ]
  },
  {
   "cell_type": "code",
   "execution_count": 49,
   "metadata": {},
   "outputs": [
    {
     "data": {
      "text/plain": [
       "dict_keys(['val_loss', 'val_acc', 'val_binary_crossentropy', 'loss', 'acc', 'binary_crossentropy'])"
      ]
     },
     "execution_count": 49,
     "metadata": {},
     "output_type": "execute_result"
    }
   ],
   "source": [
    "history_dict = history.history\n",
    "history_dict.keys()"
   ]
  },
  {
   "cell_type": "markdown",
   "metadata": {},
   "source": [
    "#### Graphs of loss and accuracy over time"
   ]
  },
  {
   "cell_type": "code",
   "execution_count": 50,
   "metadata": {},
   "outputs": [
    {
     "data": {
      "image/png": "[encoded data removed]",
      "text/plain": [
       "<Figure size 432x288 with 1 Axes>"
      ]
     },
     "metadata": {},
     "output_type": "display_data"
    }
   ],
   "source": [
    "import matplotlib.pyplot as plt\n",
    "\n",
    "acc = history_dict['acc']\n",
    "val_acc = history_dict['val_acc']\n",
    "loss = history_dict['loss']\n",
    "val_loss = history_dict['val_loss']\n",
    "\n",
    "epochs = range(1, len(acc) + 1)\n",
    "\n",
    "# \"bo\" is for \"blue dot\"\n",
    "plt.plot(epochs, loss, 'bo', label='Training loss')\n",
    "# b is for \"solid blue line\"\n",
    "plt.plot(epochs, val_loss, 'b', label='Validation loss')\n",
    "plt.title('Training and validation loss')\n",
    "plt.xlabel('Epochs')\n",
    "plt.ylabel('Loss')\n",
    "plt.legend()\n",
    "\n",
    "plt.show()"
   ]
  },
  {
   "cell_type": "code",
   "execution_count": 51,
   "metadata": {},
   "outputs": [
    {
     "data": {
      "image/png": "[encoded data removed]",
      "text/plain": [
       "<Figure size 432x288 with 1 Axes>"
      ]
     },
     "metadata": {},
     "output_type": "display_data"
    }
   ],
   "source": [
    "plt.clf()   # clear figure\n",
    "\n",
    "plt.plot(epochs, acc, 'bo', label='Training acc')\n",
    "plt.plot(epochs, val_acc, 'b', label='Validation acc')\n",
    "plt.title('Training and validation accuracy')\n",
    "plt.xlabel('Epochs')\n",
    "plt.ylabel('Accuracy')\n",
    "plt.legend()\n",
    "\n",
    "plt.show()"
   ]
  },
  {
   "cell_type": "markdown",
   "metadata": {},
   "source": [
    "- Clearly visible in the graphs above that training can be stopped after 5-6 epochs, as it is overfitting the data after that\n",
    "- Validation loss seems to be at its peak at 5-6 epochs while training loss is decreasing continuously, thus overfitting the training data"
   ]
  },
  {
   "cell_type": "code",
   "execution_count": 52,
   "metadata": {},
   "outputs": [],
   "source": [
    "def plot_history(histories, key='binary_crossentropy'):\n",
    "  plt.figure(figsize=(16,10))\n",
    "    \n",
    "  for name, history in histories:\n",
    "    val = plt.plot(history.epoch, history.history['val_'+key],\n",
    "                   '--', label=name.title()+' Val')\n",
    "    plt.plot(history.epoch, history.history[key], color=val[0].get_color(),\n",
    "             label=name.title()+' Train')\n",
    "\n",
    "  plt.xlabel('Epochs')\n",
    "  plt.ylabel(key.replace('_',' ').title())\n",
    "  plt.legend()\n",
    "\n",
    "  plt.xlim([0,max(history.epoch)])"
   ]
  },
  {
   "cell_type": "markdown",
   "metadata": {},
   "source": [
    "- To prevent overfitting:\n",
    "    - Used droupout model\n",
    "    - Reduce the capacity of the model"
   ]
  },
  {
   "cell_type": "code",
   "execution_count": 56,
   "metadata": {},
   "outputs": [
    {
     "name": "stdout",
     "output_type": "stream",
     "text": [
      "Train on 2165 samples, validate on 928 samples\n",
      "Epoch 1/20\n",
      " - 1s - loss: 7.1110 - acc: 0.5224 - binary_crossentropy: 7.1110 - val_loss: 4.6366 - val_acc: 0.6552 - val_binary_crossentropy: 4.6366\n",
      "Epoch 2/20\n",
      " - 0s - loss: 6.0882 - acc: 0.5945 - binary_crossentropy: 6.0882 - val_loss: 3.9787 - val_acc: 0.7198 - val_binary_crossentropy: 3.9787\n",
      "Epoch 3/20\n",
      " - 0s - loss: 5.7079 - acc: 0.6115 - binary_crossentropy: 5.7079 - val_loss: 3.9283 - val_acc: 0.7198 - val_binary_crossentropy: 3.9283\n",
      "Epoch 4/20\n",
      " - 0s - loss: 5.2713 - acc: 0.6356 - binary_crossentropy: 5.2713 - val_loss: 3.9964 - val_acc: 0.7241 - val_binary_crossentropy: 3.9964\n",
      "Epoch 5/20\n",
      " - 0s - loss: 4.7945 - acc: 0.6637 - binary_crossentropy: 4.7945 - val_loss: 3.9096 - val_acc: 0.7209 - val_binary_crossentropy: 3.9096\n",
      "Epoch 6/20\n",
      " - 0s - loss: 4.3842 - acc: 0.6841 - binary_crossentropy: 4.3842 - val_loss: 3.8859 - val_acc: 0.7252 - val_binary_crossentropy: 3.8859\n",
      "Epoch 7/20\n",
      " - 0s - loss: 4.7207 - acc: 0.6517 - binary_crossentropy: 4.7207 - val_loss: 3.8404 - val_acc: 0.7220 - val_binary_crossentropy: 3.8404\n",
      "Epoch 8/20\n",
      " - 0s - loss: 4.3256 - acc: 0.6748 - binary_crossentropy: 4.3256 - val_loss: 3.7248 - val_acc: 0.7231 - val_binary_crossentropy: 3.7248\n",
      "Epoch 9/20\n",
      " - 0s - loss: 3.7503 - acc: 0.6864 - binary_crossentropy: 3.7503 - val_loss: 3.4128 - val_acc: 0.7274 - val_binary_crossentropy: 3.4128\n",
      "Epoch 10/20\n",
      " - 0s - loss: 3.4834 - acc: 0.6776 - binary_crossentropy: 3.4834 - val_loss: 2.8670 - val_acc: 0.7360 - val_binary_crossentropy: 2.8670\n",
      "Epoch 11/20\n",
      " - 0s - loss: 2.6732 - acc: 0.6891 - binary_crossentropy: 2.6732 - val_loss: 1.8089 - val_acc: 0.7328 - val_binary_crossentropy: 1.8089\n",
      "Epoch 12/20\n",
      " - 0s - loss: 1.5452 - acc: 0.7173 - binary_crossentropy: 1.5452 - val_loss: 1.5597 - val_acc: 0.7295 - val_binary_crossentropy: 1.5597\n",
      "Epoch 13/20\n",
      " - 0s - loss: 1.3278 - acc: 0.7118 - binary_crossentropy: 1.3278 - val_loss: 1.5491 - val_acc: 0.7231 - val_binary_crossentropy: 1.5491\n",
      "Epoch 14/20\n",
      " - 0s - loss: 1.2044 - acc: 0.7113 - binary_crossentropy: 1.2044 - val_loss: 1.4833 - val_acc: 0.7177 - val_binary_crossentropy: 1.4833\n",
      "Epoch 15/20\n",
      " - 0s - loss: 1.2365 - acc: 0.7085 - binary_crossentropy: 1.2365 - val_loss: 1.5124 - val_acc: 0.7166 - val_binary_crossentropy: 1.5124\n",
      "Epoch 16/20\n",
      " - 0s - loss: 1.0330 - acc: 0.7095 - binary_crossentropy: 1.0330 - val_loss: 1.3166 - val_acc: 0.7177 - val_binary_crossentropy: 1.3166\n",
      "Epoch 17/20\n",
      " - 0s - loss: 1.0847 - acc: 0.7090 - binary_crossentropy: 1.0847 - val_loss: 0.9873 - val_acc: 0.7177 - val_binary_crossentropy: 0.9873\n",
      "Epoch 18/20\n",
      " - 0s - loss: 0.9295 - acc: 0.7090 - binary_crossentropy: 0.9295 - val_loss: 0.6360 - val_acc: 0.7188 - val_binary_crossentropy: 0.6360\n",
      "Epoch 19/20\n",
      " - 0s - loss: 0.7234 - acc: 0.7127 - binary_crossentropy: 0.7234 - val_loss: 0.6180 - val_acc: 0.7188 - val_binary_crossentropy: 0.6180\n",
      "Epoch 20/20\n",
      " - 0s - loss: 0.7274 - acc: 0.7127 - binary_crossentropy: 0.7274 - val_loss: 0.6136 - val_acc: 0.7209 - val_binary_crossentropy: 0.6136\n"
     ]
    }
   ],
   "source": [
    "dpt_model = keras.models.Sequential([\n",
    "    keras.layers.Dense(16, activation=tf.nn.relu, input_shape=(NUM_WORDS,)),\n",
    "    keras.layers.Dropout(0.5),\n",
    "    keras.layers.Dense(16, activation=tf.nn.relu),\n",
    "    keras.layers.Dropout(0.5),\n",
    "    keras.layers.Dense(1, activation=tf.nn.sigmoid)\n",
    "])\n",
    "\n",
    "dpt_model.compile(optimizer='adam',\n",
    "                  loss='binary_crossentropy',\n",
    "                  metrics=['accuracy','binary_crossentropy'])\n",
    "\n",
    "dpt_model_history = dpt_model.fit(train_data, train_label,\n",
    "                                  epochs=20,\n",
    "                                  batch_size=200,\n",
    "                                  validation_data=(val_data, val_label),\n",
    "                                  verbose=2)"
   ]
  },
  {
   "cell_type": "code",
   "execution_count": 57,
   "metadata": {},
   "outputs": [
    {
     "data": {
      "image/png": "[encoded data removed]",
      "text/plain": [
       "<Figure size 1152x720 with 1 Axes>"
      ]
     },
     "metadata": {},
     "output_type": "display_data"
    }
   ],
   "source": [
    "plot_history([('baseline', history),\n",
    "              ('dropout', dpt_model_history)])"
   ]
  },
  {
   "cell_type": "markdown",
   "metadata": {},
   "source": [
    "Adding dropout is a clear improvement over the baseline model."
   ]
  },
  {
   "cell_type": "code",
   "execution_count": 58,
   "metadata": {},
   "outputs": [
    {
     "name": "stdout",
     "output_type": "stream",
     "text": [
      "1326/1326 [==============================] - 0s 30us/step\n",
      "[0.7674384068579695, 0.7217194568337718, 0.7674384068579695]\n"
     ]
    }
   ],
   "source": [
    "results = dpt_model.evaluate(test_data, test_label)\n",
    "print(results)"
   ]
  },
  {
   "cell_type": "markdown",
   "metadata": {},
   "source": [
    "### Trying multi hot encoding to the input"
   ]
  },
  {
   "cell_type": "code",
   "execution_count": 59,
   "metadata": {},
   "outputs": [],
   "source": [
    "def multi_hot_sequences(sequences, dimension):\n",
    "    # Create an all-zero matrix of shape (len(sequences), dimension)\n",
    "    results = np.zeros((len(sequences), dimension))\n",
    "    for i, word_indices in enumerate(sequences):\n",
    "        results[i, word_indices] = 1.0  # set specific indices of results[i] to 1s\n",
    "    return results"
   ]
  },
  {
   "cell_type": "code",
   "execution_count": 61,
   "metadata": {},
   "outputs": [],
   "source": [
    "train_data = multi_hot_sequences(train_data, NUM_WORDS)\n",
    "\n",
    "val_data = multi_hot_sequences(val_data, NUM_WORDS)\n",
    "\n",
    "test_data = multi_hot_sequences(test_data, NUM_WORDS)"
   ]
  },
  {
   "cell_type": "code",
   "execution_count": 62,
   "metadata": {},
   "outputs": [
    {
     "name": "stdout",
     "output_type": "stream",
     "text": [
      "_________________________________________________________________\n",
      "Layer (type)                 Output Shape              Param #   \n",
      "=================================================================\n",
      "dense_32 (Dense)             (None, 50)                59600     \n",
      "_________________________________________________________________\n",
      "dense_33 (Dense)             (None, 50)                2550      \n",
      "_________________________________________________________________\n",
      "dense_34 (Dense)             (None, 1)                 51        \n",
      "=================================================================\n",
      "Total params: 62,201\n",
      "Trainable params: 62,201\n",
      "Non-trainable params: 0\n",
      "_________________________________________________________________\n",
      "Train on 2165 samples, validate on 928 samples\n",
      "Epoch 1/20\n",
      " - 1s - loss: 0.5862 - acc: 0.6993 - binary_crossentropy: 0.5862 - val_loss: 0.5590 - val_acc: 0.7069 - val_binary_crossentropy: 0.5590\n",
      "Epoch 2/20\n",
      " - 0s - loss: 0.5421 - acc: 0.7072 - binary_crossentropy: 0.5421 - val_loss: 0.5482 - val_acc: 0.7069 - val_binary_crossentropy: 0.5482\n",
      "Epoch 3/20\n",
      " - 0s - loss: 0.5219 - acc: 0.7072 - binary_crossentropy: 0.5219 - val_loss: 0.5412 - val_acc: 0.7080 - val_binary_crossentropy: 0.5412\n",
      "Epoch 4/20\n",
      " - 0s - loss: 0.5018 - acc: 0.7178 - binary_crossentropy: 0.5018 - val_loss: 0.5322 - val_acc: 0.7295 - val_binary_crossentropy: 0.5322\n",
      "Epoch 5/20\n",
      " - 0s - loss: 0.4772 - acc: 0.7464 - binary_crossentropy: 0.4772 - val_loss: 0.5239 - val_acc: 0.7414 - val_binary_crossentropy: 0.5239\n",
      "Epoch 6/20\n",
      " - 0s - loss: 0.4457 - acc: 0.7815 - binary_crossentropy: 0.4457 - val_loss: 0.5192 - val_acc: 0.7554 - val_binary_crossentropy: 0.5192\n",
      "Epoch 7/20\n",
      " - 0s - loss: 0.4093 - acc: 0.8143 - binary_crossentropy: 0.4093 - val_loss: 0.5204 - val_acc: 0.7425 - val_binary_crossentropy: 0.5204\n",
      "Epoch 8/20\n",
      " - 0s - loss: 0.3739 - acc: 0.8443 - binary_crossentropy: 0.3739 - val_loss: 0.5275 - val_acc: 0.7425 - val_binary_crossentropy: 0.5275\n",
      "Epoch 9/20\n",
      " - 0s - loss: 0.3363 - acc: 0.8642 - binary_crossentropy: 0.3363 - val_loss: 0.5425 - val_acc: 0.7328 - val_binary_crossentropy: 0.5425\n",
      "Epoch 10/20\n",
      " - 0s - loss: 0.2984 - acc: 0.8915 - binary_crossentropy: 0.2984 - val_loss: 0.5664 - val_acc: 0.7306 - val_binary_crossentropy: 0.5664\n",
      "Epoch 11/20\n",
      " - 0s - loss: 0.2601 - acc: 0.9062 - binary_crossentropy: 0.2601 - val_loss: 0.5919 - val_acc: 0.7328 - val_binary_crossentropy: 0.5919\n",
      "Epoch 12/20\n",
      " - 0s - loss: 0.2232 - acc: 0.9284 - binary_crossentropy: 0.2232 - val_loss: 0.6365 - val_acc: 0.7328 - val_binary_crossentropy: 0.6365\n",
      "Epoch 13/20\n",
      " - 0s - loss: 0.1880 - acc: 0.9450 - binary_crossentropy: 0.1880 - val_loss: 0.6670 - val_acc: 0.7349 - val_binary_crossentropy: 0.6670\n",
      "Epoch 14/20\n",
      " - 0s - loss: 0.1549 - acc: 0.9607 - binary_crossentropy: 0.1549 - val_loss: 0.7200 - val_acc: 0.7349 - val_binary_crossentropy: 0.7200\n",
      "Epoch 15/20\n",
      " - 0s - loss: 0.1258 - acc: 0.9700 - binary_crossentropy: 0.1258 - val_loss: 0.7480 - val_acc: 0.7241 - val_binary_crossentropy: 0.7480\n",
      "Epoch 16/20\n",
      " - 0s - loss: 0.1006 - acc: 0.9815 - binary_crossentropy: 0.1006 - val_loss: 0.8171 - val_acc: 0.7274 - val_binary_crossentropy: 0.8171\n",
      "Epoch 17/20\n",
      " - 0s - loss: 0.0793 - acc: 0.9871 - binary_crossentropy: 0.0793 - val_loss: 0.8472 - val_acc: 0.7263 - val_binary_crossentropy: 0.8472\n",
      "Epoch 18/20\n",
      " - 0s - loss: 0.0629 - acc: 0.9921 - binary_crossentropy: 0.0629 - val_loss: 0.9025 - val_acc: 0.7295 - val_binary_crossentropy: 0.9025\n",
      "Epoch 19/20\n",
      " - 0s - loss: 0.0509 - acc: 0.9940 - binary_crossentropy: 0.0509 - val_loss: 0.9386 - val_acc: 0.7306 - val_binary_crossentropy: 0.9386\n",
      "Epoch 20/20\n",
      " - 0s - loss: 0.0391 - acc: 0.9963 - binary_crossentropy: 0.0391 - val_loss: 0.9945 - val_acc: 0.7306 - val_binary_crossentropy: 0.9945\n"
     ]
    }
   ],
   "source": [
    "model = keras.Sequential()\n",
    "model.add(layers.Dense(50, activation = \"relu\", input_shape=(NUM_WORDS, )))\n",
    "model.add(layers.Dense(50, activation = \"relu\"))\n",
    "model.add(layers.Dense(1, activation = \"sigmoid\"))\n",
    "model.summary()\n",
    "\n",
    "model.compile(optimizer='adam',\n",
    "              loss='binary_crossentropy',\n",
    "              metrics=['accuracy', 'binary_crossentropy'])\n",
    "\n",
    "history = model.fit(train_data,\n",
    "                    train_label,\n",
    "                    epochs=20,\n",
    "                    batch_size=200,\n",
    "                    validation_data=(val_data, val_label),\n",
    "                    verbose=2)"
   ]
  },
  {
   "cell_type": "code",
   "execution_count": 63,
   "metadata": {},
   "outputs": [
    {
     "name": "stdout",
     "output_type": "stream",
     "text": [
      "Train on 2165 samples, validate on 928 samples\n",
      "Epoch 1/20\n",
      " - 1s - loss: 0.7131 - acc: 0.4993 - binary_crossentropy: 0.7131 - val_loss: 0.6386 - val_acc: 0.7069 - val_binary_crossentropy: 0.6386\n",
      "Epoch 2/20\n",
      " - 0s - loss: 0.6474 - acc: 0.6199 - binary_crossentropy: 0.6474 - val_loss: 0.5772 - val_acc: 0.7069 - val_binary_crossentropy: 0.5772\n",
      "Epoch 3/20\n",
      " - 0s - loss: 0.6150 - acc: 0.6605 - binary_crossentropy: 0.6150 - val_loss: 0.5564 - val_acc: 0.7069 - val_binary_crossentropy: 0.5564\n",
      "Epoch 4/20\n",
      " - 0s - loss: 0.6087 - acc: 0.6808 - binary_crossentropy: 0.6087 - val_loss: 0.5573 - val_acc: 0.7069 - val_binary_crossentropy: 0.5573\n",
      "Epoch 5/20\n",
      " - 0s - loss: 0.6011 - acc: 0.6758 - binary_crossentropy: 0.6011 - val_loss: 0.5579 - val_acc: 0.7069 - val_binary_crossentropy: 0.5579\n",
      "Epoch 6/20\n",
      " - 0s - loss: 0.5808 - acc: 0.6891 - binary_crossentropy: 0.5808 - val_loss: 0.5523 - val_acc: 0.7069 - val_binary_crossentropy: 0.5523\n",
      "Epoch 7/20\n",
      " - 0s - loss: 0.5766 - acc: 0.6947 - binary_crossentropy: 0.5766 - val_loss: 0.5486 - val_acc: 0.7069 - val_binary_crossentropy: 0.5486\n",
      "Epoch 8/20\n",
      " - 0s - loss: 0.5718 - acc: 0.6961 - binary_crossentropy: 0.5718 - val_loss: 0.5444 - val_acc: 0.7069 - val_binary_crossentropy: 0.5444\n",
      "Epoch 9/20\n",
      " - 0s - loss: 0.5597 - acc: 0.7072 - binary_crossentropy: 0.5597 - val_loss: 0.5424 - val_acc: 0.7069 - val_binary_crossentropy: 0.5424\n",
      "Epoch 10/20\n",
      " - 0s - loss: 0.5524 - acc: 0.7030 - binary_crossentropy: 0.5524 - val_loss: 0.5393 - val_acc: 0.7069 - val_binary_crossentropy: 0.5393\n",
      "Epoch 11/20\n",
      " - 0s - loss: 0.5431 - acc: 0.7081 - binary_crossentropy: 0.5431 - val_loss: 0.5395 - val_acc: 0.7080 - val_binary_crossentropy: 0.5395\n",
      "Epoch 12/20\n",
      " - 0s - loss: 0.5396 - acc: 0.7030 - binary_crossentropy: 0.5396 - val_loss: 0.5350 - val_acc: 0.7080 - val_binary_crossentropy: 0.5350\n",
      "Epoch 13/20\n",
      " - 0s - loss: 0.5353 - acc: 0.7206 - binary_crossentropy: 0.5353 - val_loss: 0.5333 - val_acc: 0.7080 - val_binary_crossentropy: 0.5333\n",
      "Epoch 14/20\n",
      " - 0s - loss: 0.5274 - acc: 0.7081 - binary_crossentropy: 0.5274 - val_loss: 0.5327 - val_acc: 0.7080 - val_binary_crossentropy: 0.5327\n",
      "Epoch 15/20\n",
      " - 0s - loss: 0.5186 - acc: 0.7219 - binary_crossentropy: 0.5186 - val_loss: 0.5297 - val_acc: 0.7091 - val_binary_crossentropy: 0.5297\n",
      "Epoch 16/20\n",
      " - 0s - loss: 0.5024 - acc: 0.7289 - binary_crossentropy: 0.5024 - val_loss: 0.5282 - val_acc: 0.7134 - val_binary_crossentropy: 0.5282\n",
      "Epoch 17/20\n",
      " - 0s - loss: 0.5046 - acc: 0.7363 - binary_crossentropy: 0.5046 - val_loss: 0.5262 - val_acc: 0.7252 - val_binary_crossentropy: 0.5262\n",
      "Epoch 18/20\n",
      " - 0s - loss: 0.4946 - acc: 0.7464 - binary_crossentropy: 0.4946 - val_loss: 0.5250 - val_acc: 0.7349 - val_binary_crossentropy: 0.5250\n",
      "Epoch 19/20\n",
      " - 0s - loss: 0.4841 - acc: 0.7561 - binary_crossentropy: 0.4841 - val_loss: 0.5230 - val_acc: 0.7500 - val_binary_crossentropy: 0.5230\n",
      "Epoch 20/20\n",
      " - 0s - loss: 0.4787 - acc: 0.7561 - binary_crossentropy: 0.4787 - val_loss: 0.5235 - val_acc: 0.7522 - val_binary_crossentropy: 0.5235\n"
     ]
    }
   ],
   "source": [
    "dpt_model = keras.models.Sequential([\n",
    "    keras.layers.Dense(16, activation=tf.nn.relu, input_shape=(NUM_WORDS,)),\n",
    "    keras.layers.Dropout(0.5),\n",
    "    keras.layers.Dense(16, activation=tf.nn.relu),\n",
    "    keras.layers.Dropout(0.5),\n",
    "    keras.layers.Dense(1, activation=tf.nn.sigmoid)\n",
    "])\n",
    "\n",
    "dpt_model.compile(optimizer='adam',\n",
    "                  loss='binary_crossentropy',\n",
    "                  metrics=['accuracy','binary_crossentropy'])\n",
    "\n",
    "dpt_model_history = dpt_model.fit(train_data, train_label,\n",
    "                                  epochs=20,\n",
    "                                  batch_size=200,\n",
    "                                  validation_data=(val_data, val_label),\n",
    "                                  verbose=2)"
   ]
  },
  {
   "cell_type": "code",
   "execution_count": 64,
   "metadata": {},
   "outputs": [
    {
     "name": "stdout",
     "output_type": "stream",
     "text": [
      "1326/1326 [==============================] - 0s 45us/step\n",
      "[0.9235312898234544, 0.7187028659414921, 0.9235312898234544]\n"
     ]
    }
   ],
   "source": [
    "results = model.evaluate(test_data, test_label)\n",
    "print(results)"
   ]
  },
  {
   "cell_type": "code",
   "execution_count": 65,
   "metadata": {},
   "outputs": [
    {
     "name": "stdout",
     "output_type": "stream",
     "text": [
      "1326/1326 [==============================] - 0s 35us/step\n",
      "[0.5236959412896256, 0.7511312218093584, 0.5236959412896256]\n"
     ]
    }
   ],
   "source": [
    "results = dpt_model.evaluate(test_data, test_label)\n",
    "print(results)"
   ]
  },
  {
   "cell_type": "code",
   "execution_count": 66,
   "metadata": {},
   "outputs": [
    {
     "data": {
      "image/png": "[encoded data removed]",
      "text/plain": [
       "<Figure size 1152x720 with 1 Axes>"
      ]
     },
     "metadata": {},
     "output_type": "display_data"
    }
   ],
   "source": [
    "plot_history([('baseline', history),\n",
    "              ('dropout', dpt_model_history)])"
   ]
  },
  {
   "cell_type": "code",
   "execution_count": null,
   "metadata": {},
   "outputs": [],
   "source": []
  }
 ],
 "metadata": {
  "kernelspec": {
   "display_name": "Python 3",
   "language": "python",
   "name": "python3"
  },
  "language_info": {
   "codemirror_mode": {
    "name": "ipython",
    "version": 3
   },
   "file_extension": ".py",
   "mimetype": "text/x-python",
   "name": "python",
   "nbconvert_exporter": "python",
   "pygments_lexer": "ipython3",
   "version": "3.6.5"
  }
 },
 "nbformat": 4,
 "nbformat_minor": 2
}
