{
 "cells": [
  {
   "cell_type": "code",
   "execution_count": 9,
   "metadata": {},
   "outputs": [],
   "source": [
    "import os\n",
    "import pandas as pd\n",
    "from sklearn.feature_extraction.text import CountVectorizer\n",
    "from sklearn.feature_extraction.text import TfidfTransformer\n",
    "from sklearn.naive_bayes import MultinomialNB\n",
    "from sklearn.pipeline import Pipeline\n",
    "import numpy as np\n",
    "from sklearn.linear_model import SGDClassifier\n",
    "from sklearn import metrics\n",
    "from sklearn.model_selection import GridSearchCV\n",
    "from sklearn.model_selection import StratifiedShuffleSplit\n",
    "os.chdir('D:\\APDS\\Project\\Yelp\\py workspace')"
   ]
  },
  {
   "cell_type": "code",
   "execution_count": 5,
   "metadata": {},
   "outputs": [],
   "source": [
    "df_recommended = pd.read_csv('..\\\\dataset\\\\RestaurantData\\\\recommended.csv')\n",
    "df_not_recommended = pd.read_csv('..\\\\dataset\\\\RestaurantData\\\\not_recommended.csv')"
   ]
  },
  {
   "cell_type": "code",
   "execution_count": 6,
   "metadata": {},
   "outputs": [],
   "source": [
    "df_recommended['label'] = 1\n",
    "df_not_recommended['label'] = 0\n",
    "frames = [df_recommended, df_not_recommended]\n",
    "df = pd.concat(frames)"
   ]
  },
  {
   "cell_type": "code",
   "execution_count": 7,
   "metadata": {},
   "outputs": [
    {
     "data": {
      "text/html": [
       "<div>\n",
       "<style scoped>\n",
       "    .dataframe tbody tr th:only-of-type {\n",
       "        vertical-align: middle;\n",
       "    }\n",
       "\n",
       "    .dataframe tbody tr th {\n",
       "        vertical-align: top;\n",
       "    }\n",
       "\n",
       "    .dataframe thead th {\n",
       "        text-align: right;\n",
       "    }\n",
       "</style>\n",
       "<table border=\"1\" class=\"dataframe\">\n",
       "  <thead>\n",
       "    <tr style=\"text-align: right;\">\n",
       "      <th></th>\n",
       "      <th>SNo</th>\n",
       "      <th>Review_Id</th>\n",
       "      <th>User_Id</th>\n",
       "      <th>Review_Text</th>\n",
       "      <th>label</th>\n",
       "    </tr>\n",
       "  </thead>\n",
       "  <tbody>\n",
       "    <tr>\n",
       "      <th>0</th>\n",
       "      <td>0</td>\n",
       "      <td>tfR6cUgapL4qa0ayD-MXJQ</td>\n",
       "      <td>YEDnTf7d6RyXKEHDGqi9tg</td>\n",
       "      <td>Toronto hidden gem alert! I am so glad that I ...</td>\n",
       "      <td>1</td>\n",
       "    </tr>\n",
       "    <tr>\n",
       "      <th>1</th>\n",
       "      <td>1</td>\n",
       "      <td>b9FySx_x4XeBXzlVU3OC9w</td>\n",
       "      <td>waaZROsfwU7mKcaW8cINtg</td>\n",
       "      <td>We came here in search for a new Italian resta...</td>\n",
       "      <td>1</td>\n",
       "    </tr>\n",
       "    <tr>\n",
       "      <th>2</th>\n",
       "      <td>2</td>\n",
       "      <td>ER-O3ogvbFnKq2TUWPxhxQ</td>\n",
       "      <td>6oRhkk76MBoG3ky3AaBMsA</td>\n",
       "      <td>I had the worst service I could ever had in to...</td>\n",
       "      <td>1</td>\n",
       "    </tr>\n",
       "    <tr>\n",
       "      <th>3</th>\n",
       "      <td>3</td>\n",
       "      <td>GLj88OeSVnOH48u0lQ7JBw</td>\n",
       "      <td>OucFS92pVsGBwzELoBnWvA</td>\n",
       "      <td>Great experience tucked away in a side street ...</td>\n",
       "      <td>1</td>\n",
       "    </tr>\n",
       "    <tr>\n",
       "      <th>4</th>\n",
       "      <td>4</td>\n",
       "      <td>bBYMeN4NZBhkhmrIPBVEBA</td>\n",
       "      <td>KgFOJnWXxVuz0b-xfo6jjw</td>\n",
       "      <td>I was looking for a new Italian restaurant aro...</td>\n",
       "      <td>1</td>\n",
       "    </tr>\n",
       "  </tbody>\n",
       "</table>\n",
       "</div>"
      ],
      "text/plain": [
       "   SNo               Review_Id                 User_Id  \\\n",
       "0    0  tfR6cUgapL4qa0ayD-MXJQ  YEDnTf7d6RyXKEHDGqi9tg   \n",
       "1    1  b9FySx_x4XeBXzlVU3OC9w  waaZROsfwU7mKcaW8cINtg   \n",
       "2    2  ER-O3ogvbFnKq2TUWPxhxQ  6oRhkk76MBoG3ky3AaBMsA   \n",
       "3    3  GLj88OeSVnOH48u0lQ7JBw  OucFS92pVsGBwzELoBnWvA   \n",
       "4    4  bBYMeN4NZBhkhmrIPBVEBA  KgFOJnWXxVuz0b-xfo6jjw   \n",
       "\n",
       "                                         Review_Text  label  \n",
       "0  Toronto hidden gem alert! I am so glad that I ...      1  \n",
       "1  We came here in search for a new Italian resta...      1  \n",
       "2  I had the worst service I could ever had in to...      1  \n",
       "3  Great experience tucked away in a side street ...      1  \n",
       "4  I was looking for a new Italian restaurant aro...      1  "
      ]
     },
     "execution_count": 7,
     "metadata": {},
     "output_type": "execute_result"
    }
   ],
   "source": [
    "df.head()"
   ]
  },
  {
   "cell_type": "code",
   "execution_count": 8,
   "metadata": {},
   "outputs": [],
   "source": [
    "#StratifiedShuffleSplit so as to split data with evenly distributed classes in each set\n",
    "def splitData(X, y, testSize):\n",
    "    #X = np.array(df['text'])\n",
    "    #y = np.array(df['label'])\n",
    "    sss = StratifiedShuffleSplit(n_splits=1, test_size=testSize, random_state=0)\n",
    "    sss.get_n_splits(X, y)\n",
    "    \n",
    "    for train_index, test_index in sss.split(X, y):\n",
    "        X_train, X_test = X[train_index], X[test_index]\n",
    "        y_train, y_test = y[train_index], y[test_index]\n",
    "        \n",
    "    return X_train, y_train, X_test, y_test"
   ]
  },
  {
   "cell_type": "code",
   "execution_count": 12,
   "metadata": {},
   "outputs": [],
   "source": [
    "train_data, train_label, test_data, test_label = splitData(np.array(df['Review_Text']), np.array(df['label']), testSize=0.3)\n",
    "train_data, train_label, val_data, val_label = splitData(train_data, train_label, 0.3)"
   ]
  },
  {
   "cell_type": "code",
   "execution_count": 13,
   "metadata": {},
   "outputs": [
    {
     "data": {
      "text/plain": [
       "(2165, 10566)"
      ]
     },
     "execution_count": 13,
     "metadata": {},
     "output_type": "execute_result"
    }
   ],
   "source": [
    "count_vect = CountVectorizer()\n",
    "X_train_counts = count_vect.fit_transform(train_data)\n",
    "X_train_counts.shape"
   ]
  },
  {
   "cell_type": "code",
   "execution_count": 14,
   "metadata": {},
   "outputs": [],
   "source": [
    "count_vect.vocabulary_.get(u'algorithm')"
   ]
  },
  {
   "cell_type": "code",
   "execution_count": 15,
   "metadata": {},
   "outputs": [
    {
     "data": {
      "text/plain": [
       "(2165, 10566)"
      ]
     },
     "execution_count": 15,
     "metadata": {},
     "output_type": "execute_result"
    }
   ],
   "source": [
    "tf_transformer = TfidfTransformer(use_idf=False).fit(X_train_counts)\n",
    "X_train_tf = tf_transformer.transform(X_train_counts)\n",
    "X_train_tf.shape"
   ]
  },
  {
   "cell_type": "code",
   "execution_count": 16,
   "metadata": {},
   "outputs": [
    {
     "data": {
      "text/plain": [
       "(2165, 10566)"
      ]
     },
     "execution_count": 16,
     "metadata": {},
     "output_type": "execute_result"
    }
   ],
   "source": [
    "tfidf_transformer = TfidfTransformer()\n",
    "X_train_tfidf = tfidf_transformer.fit_transform(X_train_counts)\n",
    "X_train_tfidf.shape"
   ]
  },
  {
   "cell_type": "markdown",
   "metadata": {},
   "source": [
    "### Naive Bayes Classifier"
   ]
  },
  {
   "cell_type": "code",
   "execution_count": 20,
   "metadata": {},
   "outputs": [],
   "source": [
    "clf = Pipeline([\n",
    "    ('vect', CountVectorizer()),\n",
    "    ('tfidf', TfidfTransformer()),\n",
    "    ('clf', MultinomialNB()),\n",
    "])"
   ]
  },
  {
   "cell_type": "code",
   "execution_count": 21,
   "metadata": {},
   "outputs": [
    {
     "data": {
      "text/plain": [
       "Pipeline(memory=None,\n",
       "     steps=[('vect', CountVectorizer(analyzer='word', binary=False, decode_error='strict',\n",
       "        dtype=<class 'numpy.int64'>, encoding='utf-8', input='content',\n",
       "        lowercase=True, max_df=1.0, max_features=None, min_df=1,\n",
       "        ngram_range=(1, 1), preprocessor=None, stop_words=None,\n",
       "        strip...inear_tf=False, use_idf=True)), ('clf', MultinomialNB(alpha=1.0, class_prior=None, fit_prior=True))])"
      ]
     },
     "execution_count": 21,
     "metadata": {},
     "output_type": "execute_result"
    }
   ],
   "source": [
    "clf.fit(X=train_data, y=train_label)"
   ]
  },
  {
   "cell_type": "code",
   "execution_count": 29,
   "metadata": {},
   "outputs": [
    {
     "name": "stdout",
     "output_type": "stream",
     "text": [
      "Validation data performance :  0.7079741379310345\n"
     ]
    }
   ],
   "source": [
    "predicted = clf.predict(X=val_data)\n",
    "print('Validation data prediction mean : ', np.mean(predicted == val_label))"
   ]
  },
  {
   "cell_type": "code",
   "execution_count": 30,
   "metadata": {},
   "outputs": [
    {
     "name": "stdout",
     "output_type": "stream",
     "text": [
      "Test data prediction mean :  0.7126696832579186\n"
     ]
    }
   ],
   "source": [
    "predicted = clf.predict(X=test_data)\n",
    "print('Test data prediction mean : ',np.mean(predicted==test_label))"
   ]
  },
  {
   "cell_type": "markdown",
   "metadata": {},
   "source": [
    "### SVM Classifier"
   ]
  },
  {
   "cell_type": "code",
   "execution_count": 32,
   "metadata": {},
   "outputs": [
    {
     "name": "stdout",
     "output_type": "stream",
     "text": [
      "Validation data prediction mean :  0.7737068965517241\n"
     ]
    }
   ],
   "source": [
    "clf = Pipeline([\n",
    "    ('vect', CountVectorizer()),\n",
    "    ('tfidf', TfidfTransformer()),\n",
    "    ('clf', SGDClassifier(loss='hinge', penalty='l2',\n",
    "                          alpha=1e-3, random_state=42,\n",
    "                          max_iter=5, tol=None)),\n",
    "])\n",
    "\n",
    "clf.fit(train_data, train_label)  \n",
    "\n",
    "predicted = clf.predict(val_data)\n",
    "print('Validation data prediction mean : ',np.mean(predicted == val_label))"
   ]
  },
  {
   "cell_type": "code",
   "execution_count": 36,
   "metadata": {},
   "outputs": [
    {
     "name": "stdout",
     "output_type": "stream",
     "text": [
      "             precision    recall  f1-score   support\n",
      "\n",
      "       Fake       0.90      0.26      0.40       272\n",
      "    Genuine       0.76      0.99      0.86       656\n",
      "\n",
      "avg / total       0.80      0.77      0.73       928\n",
      "\n"
     ]
    }
   ],
   "source": [
    "print(metrics.classification_report(val_label, predicted,\n",
    "    target_names=['Fake', 'Genuine']))"
   ]
  },
  {
   "cell_type": "code",
   "execution_count": 35,
   "metadata": {},
   "outputs": [
    {
     "data": {
      "text/plain": [
       "array([[ 70, 202],\n",
       "       [  8, 648]], dtype=int64)"
      ]
     },
     "execution_count": 35,
     "metadata": {},
     "output_type": "execute_result"
    }
   ],
   "source": [
    "metrics.confusion_matrix(val_label, predicted)"
   ]
  },
  {
   "cell_type": "code",
   "execution_count": 37,
   "metadata": {},
   "outputs": [],
   "source": [
    "parameters = {\n",
    "    'vect__ngram_range': [(1, 1), (1, 2)],\n",
    "    'tfidf__use_idf': (True, False),\n",
    "    'clf__alpha': (1e-2, 1e-3),\n",
    "}"
   ]
  },
  {
   "cell_type": "code",
   "execution_count": 39,
   "metadata": {},
   "outputs": [],
   "source": [
    "gs_clf = GridSearchCV(clf, parameters, cv=5, iid=False, n_jobs=-1)"
   ]
  },
  {
   "cell_type": "code",
   "execution_count": 40,
   "metadata": {},
   "outputs": [],
   "source": [
    "gs_clf = gs_clf.fit(train_data, train_label)"
   ]
  },
  {
   "cell_type": "code",
   "execution_count": 41,
   "metadata": {},
   "outputs": [
    {
     "data": {
      "text/plain": [
       "0.7565835874773892"
      ]
     },
     "execution_count": 41,
     "metadata": {},
     "output_type": "execute_result"
    }
   ],
   "source": [
    "gs_clf.best_score_"
   ]
  },
  {
   "cell_type": "code",
   "execution_count": 42,
   "metadata": {},
   "outputs": [
    {
     "name": "stdout",
     "output_type": "stream",
     "text": [
      "clf__alpha: 0.001\n",
      "tfidf__use_idf: True\n",
      "vect__ngram_range: (1, 1)\n"
     ]
    }
   ],
   "source": [
    "for param_name in sorted(parameters.keys()):\n",
    "    print(\"%s: %r\" % (param_name, gs_clf.best_params_[param_name]))"
   ]
  },
  {
   "cell_type": "code",
   "execution_count": 43,
   "metadata": {},
   "outputs": [
    {
     "name": "stderr",
     "output_type": "stream",
     "text": [
      "C:\\Anaconda3\\lib\\site-packages\\sklearn\\utils\\deprecation.py:122: FutureWarning: You are accessing a training score ('split0_train_score'), which will not be available by default any more in 0.21. If you need training scores, please set return_train_score=True\n",
      "  warnings.warn(*warn_args, **warn_kwargs)\n",
      "C:\\Anaconda3\\lib\\site-packages\\sklearn\\utils\\deprecation.py:122: FutureWarning: You are accessing a training score ('split1_train_score'), which will not be available by default any more in 0.21. If you need training scores, please set return_train_score=True\n",
      "  warnings.warn(*warn_args, **warn_kwargs)\n",
      "C:\\Anaconda3\\lib\\site-packages\\sklearn\\utils\\deprecation.py:122: FutureWarning: You are accessing a training score ('split2_train_score'), which will not be available by default any more in 0.21. If you need training scores, please set return_train_score=True\n",
      "  warnings.warn(*warn_args, **warn_kwargs)\n",
      "C:\\Anaconda3\\lib\\site-packages\\sklearn\\utils\\deprecation.py:122: FutureWarning: You are accessing a training score ('split3_train_score'), which will not be available by default any more in 0.21. If you need training scores, please set return_train_score=True\n",
      "  warnings.warn(*warn_args, **warn_kwargs)\n",
      "C:\\Anaconda3\\lib\\site-packages\\sklearn\\utils\\deprecation.py:122: FutureWarning: You are accessing a training score ('split4_train_score'), which will not be available by default any more in 0.21. If you need training scores, please set return_train_score=True\n",
      "  warnings.warn(*warn_args, **warn_kwargs)\n",
      "C:\\Anaconda3\\lib\\site-packages\\sklearn\\utils\\deprecation.py:122: FutureWarning: You are accessing a training score ('mean_train_score'), which will not be available by default any more in 0.21. If you need training scores, please set return_train_score=True\n",
      "  warnings.warn(*warn_args, **warn_kwargs)\n",
      "C:\\Anaconda3\\lib\\site-packages\\sklearn\\utils\\deprecation.py:122: FutureWarning: You are accessing a training score ('std_train_score'), which will not be available by default any more in 0.21. If you need training scores, please set return_train_score=True\n",
      "  warnings.warn(*warn_args, **warn_kwargs)\n"
     ]
    }
   ],
   "source": [
    "resultsDf = pd.DataFrame(gs_clf.cv_results_)"
   ]
  },
  {
   "cell_type": "code",
   "execution_count": 44,
   "metadata": {},
   "outputs": [
    {
     "data": {
      "text/html": [
       "<div>\n",
       "<style scoped>\n",
       "    .dataframe tbody tr th:only-of-type {\n",
       "        vertical-align: middle;\n",
       "    }\n",
       "\n",
       "    .dataframe tbody tr th {\n",
       "        vertical-align: top;\n",
       "    }\n",
       "\n",
       "    .dataframe thead th {\n",
       "        text-align: right;\n",
       "    }\n",
       "</style>\n",
       "<table border=\"1\" class=\"dataframe\">\n",
       "  <thead>\n",
       "    <tr style=\"text-align: right;\">\n",
       "      <th></th>\n",
       "      <th>mean_fit_time</th>\n",
       "      <th>std_fit_time</th>\n",
       "      <th>mean_score_time</th>\n",
       "      <th>std_score_time</th>\n",
       "      <th>param_clf__alpha</th>\n",
       "      <th>param_tfidf__use_idf</th>\n",
       "      <th>param_vect__ngram_range</th>\n",
       "      <th>params</th>\n",
       "      <th>split0_test_score</th>\n",
       "      <th>split1_test_score</th>\n",
       "      <th>...</th>\n",
       "      <th>mean_test_score</th>\n",
       "      <th>std_test_score</th>\n",
       "      <th>rank_test_score</th>\n",
       "      <th>split0_train_score</th>\n",
       "      <th>split1_train_score</th>\n",
       "      <th>split2_train_score</th>\n",
       "      <th>split3_train_score</th>\n",
       "      <th>split4_train_score</th>\n",
       "      <th>mean_train_score</th>\n",
       "      <th>std_train_score</th>\n",
       "    </tr>\n",
       "  </thead>\n",
       "  <tbody>\n",
       "    <tr>\n",
       "      <th>0</th>\n",
       "      <td>0.419828</td>\n",
       "      <td>0.042235</td>\n",
       "      <td>0.089978</td>\n",
       "      <td>0.009424</td>\n",
       "      <td>0.01</td>\n",
       "      <td>True</td>\n",
       "      <td>(1, 1)</td>\n",
       "      <td>{'clf__alpha': 0.01, 'tfidf__use_idf': True, '...</td>\n",
       "      <td>0.707373</td>\n",
       "      <td>0.706697</td>\n",
       "      <td>...</td>\n",
       "      <td>0.707160</td>\n",
       "      <td>0.000642</td>\n",
       "      <td>6</td>\n",
       "      <td>0.707683</td>\n",
       "      <td>0.707275</td>\n",
       "      <td>0.707275</td>\n",
       "      <td>0.707275</td>\n",
       "      <td>0.706867</td>\n",
       "      <td>0.707275</td>\n",
       "      <td>0.000258</td>\n",
       "    </tr>\n",
       "    <tr>\n",
       "      <th>1</th>\n",
       "      <td>1.452225</td>\n",
       "      <td>0.059152</td>\n",
       "      <td>0.206156</td>\n",
       "      <td>0.011553</td>\n",
       "      <td>0.01</td>\n",
       "      <td>True</td>\n",
       "      <td>(1, 2)</td>\n",
       "      <td>{'clf__alpha': 0.01, 'tfidf__use_idf': True, '...</td>\n",
       "      <td>0.707373</td>\n",
       "      <td>0.706697</td>\n",
       "      <td>...</td>\n",
       "      <td>0.707160</td>\n",
       "      <td>0.000642</td>\n",
       "      <td>6</td>\n",
       "      <td>0.707106</td>\n",
       "      <td>0.707275</td>\n",
       "      <td>0.707275</td>\n",
       "      <td>0.707275</td>\n",
       "      <td>0.706867</td>\n",
       "      <td>0.707159</td>\n",
       "      <td>0.000160</td>\n",
       "    </tr>\n",
       "    <tr>\n",
       "      <th>2</th>\n",
       "      <td>0.430760</td>\n",
       "      <td>0.018591</td>\n",
       "      <td>0.101048</td>\n",
       "      <td>0.007042</td>\n",
       "      <td>0.01</td>\n",
       "      <td>False</td>\n",
       "      <td>(1, 1)</td>\n",
       "      <td>{'clf__alpha': 0.01, 'tfidf__use_idf': False, ...</td>\n",
       "      <td>0.707373</td>\n",
       "      <td>0.709007</td>\n",
       "      <td>...</td>\n",
       "      <td>0.707622</td>\n",
       "      <td>0.000916</td>\n",
       "      <td>5</td>\n",
       "      <td>0.708839</td>\n",
       "      <td>0.708430</td>\n",
       "      <td>0.709007</td>\n",
       "      <td>0.709007</td>\n",
       "      <td>0.707444</td>\n",
       "      <td>0.708545</td>\n",
       "      <td>0.000590</td>\n",
       "    </tr>\n",
       "    <tr>\n",
       "      <th>3</th>\n",
       "      <td>1.319541</td>\n",
       "      <td>0.042333</td>\n",
       "      <td>0.182970</td>\n",
       "      <td>0.004718</td>\n",
       "      <td>0.01</td>\n",
       "      <td>False</td>\n",
       "      <td>(1, 2)</td>\n",
       "      <td>{'clf__alpha': 0.01, 'tfidf__use_idf': False, ...</td>\n",
       "      <td>0.707373</td>\n",
       "      <td>0.706697</td>\n",
       "      <td>...</td>\n",
       "      <td>0.707160</td>\n",
       "      <td>0.000642</td>\n",
       "      <td>6</td>\n",
       "      <td>0.707106</td>\n",
       "      <td>0.707275</td>\n",
       "      <td>0.707275</td>\n",
       "      <td>0.707275</td>\n",
       "      <td>0.706867</td>\n",
       "      <td>0.707159</td>\n",
       "      <td>0.000160</td>\n",
       "    </tr>\n",
       "    <tr>\n",
       "      <th>4</th>\n",
       "      <td>0.410961</td>\n",
       "      <td>0.023825</td>\n",
       "      <td>0.093085</td>\n",
       "      <td>0.005910</td>\n",
       "      <td>0.001</td>\n",
       "      <td>True</td>\n",
       "      <td>(1, 1)</td>\n",
       "      <td>{'clf__alpha': 0.001, 'tfidf__use_idf': True, ...</td>\n",
       "      <td>0.748848</td>\n",
       "      <td>0.750577</td>\n",
       "      <td>...</td>\n",
       "      <td>0.756584</td>\n",
       "      <td>0.008283</td>\n",
       "      <td>1</td>\n",
       "      <td>0.876372</td>\n",
       "      <td>0.858545</td>\n",
       "      <td>0.862587</td>\n",
       "      <td>0.853349</td>\n",
       "      <td>0.847663</td>\n",
       "      <td>0.859703</td>\n",
       "      <td>0.009725</td>\n",
       "    </tr>\n",
       "    <tr>\n",
       "      <th>5</th>\n",
       "      <td>1.417890</td>\n",
       "      <td>0.030012</td>\n",
       "      <td>0.192811</td>\n",
       "      <td>0.009279</td>\n",
       "      <td>0.001</td>\n",
       "      <td>True</td>\n",
       "      <td>(1, 2)</td>\n",
       "      <td>{'clf__alpha': 0.001, 'tfidf__use_idf': True, ...</td>\n",
       "      <td>0.718894</td>\n",
       "      <td>0.720554</td>\n",
       "      <td>...</td>\n",
       "      <td>0.726101</td>\n",
       "      <td>0.006292</td>\n",
       "      <td>4</td>\n",
       "      <td>0.870017</td>\n",
       "      <td>0.854503</td>\n",
       "      <td>0.844111</td>\n",
       "      <td>0.848730</td>\n",
       "      <td>0.836122</td>\n",
       "      <td>0.850697</td>\n",
       "      <td>0.011379</td>\n",
       "    </tr>\n",
       "    <tr>\n",
       "      <th>6</th>\n",
       "      <td>0.449023</td>\n",
       "      <td>0.015017</td>\n",
       "      <td>0.086547</td>\n",
       "      <td>0.004927</td>\n",
       "      <td>0.001</td>\n",
       "      <td>False</td>\n",
       "      <td>(1, 1)</td>\n",
       "      <td>{'clf__alpha': 0.001, 'tfidf__use_idf': False,...</td>\n",
       "      <td>0.741935</td>\n",
       "      <td>0.750577</td>\n",
       "      <td>...</td>\n",
       "      <td>0.746884</td>\n",
       "      <td>0.005296</td>\n",
       "      <td>2</td>\n",
       "      <td>0.822068</td>\n",
       "      <td>0.807159</td>\n",
       "      <td>0.800808</td>\n",
       "      <td>0.803695</td>\n",
       "      <td>0.790537</td>\n",
       "      <td>0.804854</td>\n",
       "      <td>0.010241</td>\n",
       "    </tr>\n",
       "    <tr>\n",
       "      <th>7</th>\n",
       "      <td>1.339426</td>\n",
       "      <td>0.092100</td>\n",
       "      <td>0.191633</td>\n",
       "      <td>0.029558</td>\n",
       "      <td>0.001</td>\n",
       "      <td>False</td>\n",
       "      <td>(1, 2)</td>\n",
       "      <td>{'clf__alpha': 0.001, 'tfidf__use_idf': False,...</td>\n",
       "      <td>0.732719</td>\n",
       "      <td>0.743649</td>\n",
       "      <td>...</td>\n",
       "      <td>0.743656</td>\n",
       "      <td>0.006729</td>\n",
       "      <td>3</td>\n",
       "      <td>0.848065</td>\n",
       "      <td>0.831986</td>\n",
       "      <td>0.821594</td>\n",
       "      <td>0.837760</td>\n",
       "      <td>0.811887</td>\n",
       "      <td>0.830258</td>\n",
       "      <td>0.012561</td>\n",
       "    </tr>\n",
       "  </tbody>\n",
       "</table>\n",
       "<p>8 rows × 23 columns</p>\n",
       "</div>"
      ],
      "text/plain": [
       "   mean_fit_time  std_fit_time  mean_score_time  std_score_time  \\\n",
       "0       0.419828      0.042235         0.089978        0.009424   \n",
       "1       1.452225      0.059152         0.206156        0.011553   \n",
       "2       0.430760      0.018591         0.101048        0.007042   \n",
       "3       1.319541      0.042333         0.182970        0.004718   \n",
       "4       0.410961      0.023825         0.093085        0.005910   \n",
       "5       1.417890      0.030012         0.192811        0.009279   \n",
       "6       0.449023      0.015017         0.086547        0.004927   \n",
       "7       1.339426      0.092100         0.191633        0.029558   \n",
       "\n",
       "  param_clf__alpha param_tfidf__use_idf param_vect__ngram_range  \\\n",
       "0             0.01                 True                  (1, 1)   \n",
       "1             0.01                 True                  (1, 2)   \n",
       "2             0.01                False                  (1, 1)   \n",
       "3             0.01                False                  (1, 2)   \n",
       "4            0.001                 True                  (1, 1)   \n",
       "5            0.001                 True                  (1, 2)   \n",
       "6            0.001                False                  (1, 1)   \n",
       "7            0.001                False                  (1, 2)   \n",
       "\n",
       "                                              params  split0_test_score  \\\n",
       "0  {'clf__alpha': 0.01, 'tfidf__use_idf': True, '...           0.707373   \n",
       "1  {'clf__alpha': 0.01, 'tfidf__use_idf': True, '...           0.707373   \n",
       "2  {'clf__alpha': 0.01, 'tfidf__use_idf': False, ...           0.707373   \n",
       "3  {'clf__alpha': 0.01, 'tfidf__use_idf': False, ...           0.707373   \n",
       "4  {'clf__alpha': 0.001, 'tfidf__use_idf': True, ...           0.748848   \n",
       "5  {'clf__alpha': 0.001, 'tfidf__use_idf': True, ...           0.718894   \n",
       "6  {'clf__alpha': 0.001, 'tfidf__use_idf': False,...           0.741935   \n",
       "7  {'clf__alpha': 0.001, 'tfidf__use_idf': False,...           0.732719   \n",
       "\n",
       "   split1_test_score       ...         mean_test_score  std_test_score  \\\n",
       "0           0.706697       ...                0.707160        0.000642   \n",
       "1           0.706697       ...                0.707160        0.000642   \n",
       "2           0.709007       ...                0.707622        0.000916   \n",
       "3           0.706697       ...                0.707160        0.000642   \n",
       "4           0.750577       ...                0.756584        0.008283   \n",
       "5           0.720554       ...                0.726101        0.006292   \n",
       "6           0.750577       ...                0.746884        0.005296   \n",
       "7           0.743649       ...                0.743656        0.006729   \n",
       "\n",
       "   rank_test_score  split0_train_score  split1_train_score  \\\n",
       "0                6            0.707683            0.707275   \n",
       "1                6            0.707106            0.707275   \n",
       "2                5            0.708839            0.708430   \n",
       "3                6            0.707106            0.707275   \n",
       "4                1            0.876372            0.858545   \n",
       "5                4            0.870017            0.854503   \n",
       "6                2            0.822068            0.807159   \n",
       "7                3            0.848065            0.831986   \n",
       "\n",
       "   split2_train_score  split3_train_score  split4_train_score  \\\n",
       "0            0.707275            0.707275            0.706867   \n",
       "1            0.707275            0.707275            0.706867   \n",
       "2            0.709007            0.709007            0.707444   \n",
       "3            0.707275            0.707275            0.706867   \n",
       "4            0.862587            0.853349            0.847663   \n",
       "5            0.844111            0.848730            0.836122   \n",
       "6            0.800808            0.803695            0.790537   \n",
       "7            0.821594            0.837760            0.811887   \n",
       "\n",
       "   mean_train_score  std_train_score  \n",
       "0          0.707275         0.000258  \n",
       "1          0.707159         0.000160  \n",
       "2          0.708545         0.000590  \n",
       "3          0.707159         0.000160  \n",
       "4          0.859703         0.009725  \n",
       "5          0.850697         0.011379  \n",
       "6          0.804854         0.010241  \n",
       "7          0.830258         0.012561  \n",
       "\n",
       "[8 rows x 23 columns]"
      ]
     },
     "execution_count": 44,
     "metadata": {},
     "output_type": "execute_result"
    }
   ],
   "source": [
    "resultsDf"
   ]
  },
  {
   "cell_type": "code",
   "execution_count": 45,
   "metadata": {},
   "outputs": [
    {
     "data": {
      "text/plain": [
       "0.7737068965517241"
      ]
     },
     "execution_count": 45,
     "metadata": {},
     "output_type": "execute_result"
    }
   ],
   "source": [
    "predicted = gs_clf.predict(val_data)\n",
    "np.mean(predicted==val_label)"
   ]
  },
  {
   "cell_type": "code",
   "execution_count": 46,
   "metadata": {},
   "outputs": [
    {
     "data": {
      "text/plain": [
       "0.7699849170437406"
      ]
     },
     "execution_count": 46,
     "metadata": {},
     "output_type": "execute_result"
    }
   ],
   "source": [
    "predicted = gs_clf.predict(test_data)\n",
    "np.mean(predicted==test_label)"
   ]
  },
  {
   "cell_type": "code",
   "execution_count": null,
   "metadata": {},
   "outputs": [],
   "source": []
  }
 ],
 "metadata": {
  "kernelspec": {
   "display_name": "Python 3",
   "language": "python",
   "name": "python3"
  },
  "language_info": {
   "codemirror_mode": {
    "name": "ipython",
    "version": 3
   },
   "file_extension": ".py",
   "mimetype": "text/x-python",
   "name": "python",
   "nbconvert_exporter": "python",
   "pygments_lexer": "ipython3",
   "version": "3.6.5"
  }
 },
 "nbformat": 4,
 "nbformat_minor": 2
}
