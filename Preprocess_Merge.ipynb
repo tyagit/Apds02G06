{
 "cells": [
  {
   "cell_type": "code",
   "execution_count": 1,
   "metadata": {},
   "outputs": [],
   "source": [
    "#set working directory\n",
    "import os\n",
    "import pandas as pd\n",
    "import numpy as np\n",
    "os.chdir('D:\\APDS\\Project\\Yelp\\py workspace')"
   ]
  },
  {
   "cell_type": "code",
   "execution_count": 2,
   "metadata": {},
   "outputs": [],
   "source": [
    "df_business = pd.read_csv('..\\\\dataset\\\\RestaurantData\\\\business.csv')"
   ]
  },
  {
   "cell_type": "code",
   "execution_count": 3,
   "metadata": {},
   "outputs": [],
   "source": [
    "df_business_attr = pd.read_csv('..\\\\dataset\\\\RestaurantData\\\\business_attributes.csv')"
   ]
  },
  {
   "cell_type": "code",
   "execution_count": 4,
   "metadata": {},
   "outputs": [],
   "source": [
    "df_business_hours = pd.read_csv('..\\\\dataset\\\\RestaurantData\\\\business_hours.csv')"
   ]
  },
  {
   "cell_type": "code",
   "execution_count": 5,
   "metadata": {},
   "outputs": [],
   "source": [
    "df_checkin = pd.read_csv('..\\\\dataset\\\\RestaurantData\\\\checkin.csv')"
   ]
  },
  {
   "cell_type": "code",
   "execution_count": 6,
   "metadata": {},
   "outputs": [],
   "source": [
    "df_tip = pd.read_csv('..\\\\dataset\\\\RestaurantData\\\\tip.csv')"
   ]
  },
  {
   "cell_type": "code",
   "execution_count": 7,
   "metadata": {},
   "outputs": [
    {
     "data": {
      "text/html": [
       "<div>\n",
       "<style scoped>\n",
       "    .dataframe tbody tr th:only-of-type {\n",
       "        vertical-align: middle;\n",
       "    }\n",
       "\n",
       "    .dataframe tbody tr th {\n",
       "        vertical-align: top;\n",
       "    }\n",
       "\n",
       "    .dataframe thead th {\n",
       "        text-align: right;\n",
       "    }\n",
       "</style>\n",
       "<table border=\"1\" class=\"dataframe\">\n",
       "  <thead>\n",
       "    <tr style=\"text-align: right;\">\n",
       "      <th></th>\n",
       "      <th>Unnamed: 0</th>\n",
       "      <th>business_id</th>\n",
       "      <th>name</th>\n",
       "      <th>neighborhood</th>\n",
       "      <th>address</th>\n",
       "      <th>city</th>\n",
       "      <th>state</th>\n",
       "      <th>postal_code</th>\n",
       "      <th>latitude</th>\n",
       "      <th>longitude</th>\n",
       "      <th>stars</th>\n",
       "      <th>review_count</th>\n",
       "      <th>is_open</th>\n",
       "      <th>categories</th>\n",
       "    </tr>\n",
       "  </thead>\n",
       "  <tbody>\n",
       "    <tr>\n",
       "      <th>0</th>\n",
       "      <td>4</td>\n",
       "      <td>PfOCPjBrlQAnz__NXj9h_w</td>\n",
       "      <td>\"Brick House Tavern + Tap\"</td>\n",
       "      <td>NaN</td>\n",
       "      <td>\"581 Howe Ave\"</td>\n",
       "      <td>Cuyahoga Falls</td>\n",
       "      <td>OH</td>\n",
       "      <td>44221</td>\n",
       "      <td>41.119535</td>\n",
       "      <td>-81.475690</td>\n",
       "      <td>3.5</td>\n",
       "      <td>116</td>\n",
       "      <td>1</td>\n",
       "      <td>American (New);Nightlife;Bars;Sandwiches;Ameri...</td>\n",
       "    </tr>\n",
       "    <tr>\n",
       "      <th>1</th>\n",
       "      <td>5</td>\n",
       "      <td>o9eMRCWt5PkpLDE0gOPtcQ</td>\n",
       "      <td>\"Messina\"</td>\n",
       "      <td>NaN</td>\n",
       "      <td>\"Richterstr. 11\"</td>\n",
       "      <td>Stuttgart</td>\n",
       "      <td>BW</td>\n",
       "      <td>70567</td>\n",
       "      <td>48.727200</td>\n",
       "      <td>9.147950</td>\n",
       "      <td>4.0</td>\n",
       "      <td>5</td>\n",
       "      <td>1</td>\n",
       "      <td>Italian;Restaurants</td>\n",
       "    </tr>\n",
       "    <tr>\n",
       "      <th>2</th>\n",
       "      <td>10</td>\n",
       "      <td>XOSRcvtaKc_Q5H1SAzN20A</td>\n",
       "      <td>\"East Coast Coffee\"</td>\n",
       "      <td>NaN</td>\n",
       "      <td>\"737 West Pike St\"</td>\n",
       "      <td>Houston</td>\n",
       "      <td>PA</td>\n",
       "      <td>15342</td>\n",
       "      <td>40.241548</td>\n",
       "      <td>-80.212815</td>\n",
       "      <td>4.5</td>\n",
       "      <td>3</td>\n",
       "      <td>0</td>\n",
       "      <td>Breakfast &amp; Brunch;Gluten-Free;Coffee &amp; Tea;Fo...</td>\n",
       "    </tr>\n",
       "    <tr>\n",
       "      <th>3</th>\n",
       "      <td>14</td>\n",
       "      <td>fNMVV_ZX7CJSDWQGdOM8Nw</td>\n",
       "      <td>\"Showmars Government Center\"</td>\n",
       "      <td>Uptown</td>\n",
       "      <td>\"600 E 4th St\"</td>\n",
       "      <td>Charlotte</td>\n",
       "      <td>NC</td>\n",
       "      <td>28202</td>\n",
       "      <td>35.221647</td>\n",
       "      <td>-80.839345</td>\n",
       "      <td>3.5</td>\n",
       "      <td>7</td>\n",
       "      <td>1</td>\n",
       "      <td>Restaurants;American (Traditional)</td>\n",
       "    </tr>\n",
       "    <tr>\n",
       "      <th>4</th>\n",
       "      <td>15</td>\n",
       "      <td>l09JfMeQ6ynYs5MCJtrcmQ</td>\n",
       "      <td>\"Alize Catering\"</td>\n",
       "      <td>Yonge and Eglinton</td>\n",
       "      <td>\"2459 Yonge St\"</td>\n",
       "      <td>Toronto</td>\n",
       "      <td>ON</td>\n",
       "      <td>M4P 2H6</td>\n",
       "      <td>43.711399</td>\n",
       "      <td>-79.399339</td>\n",
       "      <td>3.0</td>\n",
       "      <td>12</td>\n",
       "      <td>0</td>\n",
       "      <td>Italian;French;Restaurants</td>\n",
       "    </tr>\n",
       "  </tbody>\n",
       "</table>\n",
       "</div>"
      ],
      "text/plain": [
       "   Unnamed: 0             business_id                          name  \\\n",
       "0           4  PfOCPjBrlQAnz__NXj9h_w    \"Brick House Tavern + Tap\"   \n",
       "1           5  o9eMRCWt5PkpLDE0gOPtcQ                     \"Messina\"   \n",
       "2          10  XOSRcvtaKc_Q5H1SAzN20A           \"East Coast Coffee\"   \n",
       "3          14  fNMVV_ZX7CJSDWQGdOM8Nw  \"Showmars Government Center\"   \n",
       "4          15  l09JfMeQ6ynYs5MCJtrcmQ              \"Alize Catering\"   \n",
       "\n",
       "         neighborhood             address            city state postal_code  \\\n",
       "0                 NaN      \"581 Howe Ave\"  Cuyahoga Falls    OH       44221   \n",
       "1                 NaN    \"Richterstr. 11\"       Stuttgart    BW       70567   \n",
       "2                 NaN  \"737 West Pike St\"         Houston    PA       15342   \n",
       "3              Uptown      \"600 E 4th St\"       Charlotte    NC       28202   \n",
       "4  Yonge and Eglinton     \"2459 Yonge St\"         Toronto    ON     M4P 2H6   \n",
       "\n",
       "    latitude  longitude  stars  review_count  is_open  \\\n",
       "0  41.119535 -81.475690    3.5           116        1   \n",
       "1  48.727200   9.147950    4.0             5        1   \n",
       "2  40.241548 -80.212815    4.5             3        0   \n",
       "3  35.221647 -80.839345    3.5             7        1   \n",
       "4  43.711399 -79.399339    3.0            12        0   \n",
       "\n",
       "                                          categories  \n",
       "0  American (New);Nightlife;Bars;Sandwiches;Ameri...  \n",
       "1                                Italian;Restaurants  \n",
       "2  Breakfast & Brunch;Gluten-Free;Coffee & Tea;Fo...  \n",
       "3                 Restaurants;American (Traditional)  \n",
       "4                         Italian;French;Restaurants  "
      ]
     },
     "execution_count": 7,
     "metadata": {},
     "output_type": "execute_result"
    }
   ],
   "source": [
    "df_business.head()"
   ]
  },
  {
   "cell_type": "code",
   "execution_count": 8,
   "metadata": {},
   "outputs": [
    {
     "data": {
      "text/plain": [
       "Index(['Unnamed: 0', 'business_id', 'name', 'neighborhood', 'address', 'city',\n",
       "       'state', 'postal_code', 'latitude', 'longitude', 'stars',\n",
       "       'review_count', 'is_open', 'categories'],\n",
       "      dtype='object')"
      ]
     },
     "execution_count": 8,
     "metadata": {},
     "output_type": "execute_result"
    }
   ],
   "source": [
    "df_business.columns"
   ]
  },
  {
   "cell_type": "code",
   "execution_count": 9,
   "metadata": {},
   "outputs": [
    {
     "data": {
      "text/plain": [
       "['neighborhood', 'postal_code']"
      ]
     },
     "execution_count": 9,
     "metadata": {},
     "output_type": "execute_result"
    }
   ],
   "source": [
    "df_business.columns[df_business.isnull().any()].tolist()"
   ]
  },
  {
   "cell_type": "code",
   "execution_count": 10,
   "metadata": {},
   "outputs": [
    {
     "data": {
      "text/plain": [
       "Unnamed: 0          0\n",
       "business_id         0\n",
       "name                0\n",
       "neighborhood    30109\n",
       "address             0\n",
       "city                0\n",
       "state               0\n",
       "postal_code       101\n",
       "latitude            0\n",
       "longitude           0\n",
       "stars               0\n",
       "review_count        0\n",
       "is_open             0\n",
       "categories          0\n",
       "dtype: int64"
      ]
     },
     "execution_count": 10,
     "metadata": {},
     "output_type": "execute_result"
    }
   ],
   "source": [
    "df_business.isnull().sum()"
   ]
  },
  {
   "cell_type": "code",
   "execution_count": 11,
   "metadata": {},
   "outputs": [
    {
     "data": {
      "text/plain": [
       "54630"
      ]
     },
     "execution_count": 11,
     "metadata": {},
     "output_type": "execute_result"
    }
   ],
   "source": [
    "len(df_business)"
   ]
  },
  {
   "cell_type": "code",
   "execution_count": 8,
   "metadata": {},
   "outputs": [],
   "source": [
    "#df_business = df_business.dropna(subset = ['postal_code'])"
   ]
  },
  {
   "cell_type": "code",
   "execution_count": 12,
   "metadata": {},
   "outputs": [],
   "source": [
    "#df_business = df_business.drop(columns = ['neighborhood', 'Unnamed: 0'])\n",
    "df_business = df_business.drop(columns = ['Unnamed: 0', 'neighborhood', 'postal_code'])"
   ]
  },
  {
   "cell_type": "code",
   "execution_count": 13,
   "metadata": {},
   "outputs": [
    {
     "data": {
      "text/plain": [
       "Index(['business_id', 'name', 'address', 'city', 'state', 'latitude',\n",
       "       'longitude', 'stars', 'review_count', 'is_open', 'categories'],\n",
       "      dtype='object')"
      ]
     },
     "execution_count": 13,
     "metadata": {},
     "output_type": "execute_result"
    }
   ],
   "source": [
    "df_business.columns"
   ]
  },
  {
   "cell_type": "code",
   "execution_count": 14,
   "metadata": {},
   "outputs": [
    {
     "data": {
      "text/html": [
       "<div>\n",
       "<style scoped>\n",
       "    .dataframe tbody tr th:only-of-type {\n",
       "        vertical-align: middle;\n",
       "    }\n",
       "\n",
       "    .dataframe tbody tr th {\n",
       "        vertical-align: top;\n",
       "    }\n",
       "\n",
       "    .dataframe thead th {\n",
       "        text-align: right;\n",
       "    }\n",
       "</style>\n",
       "<table border=\"1\" class=\"dataframe\">\n",
       "  <thead>\n",
       "    <tr style=\"text-align: right;\">\n",
       "      <th></th>\n",
       "      <th>Unnamed: 0</th>\n",
       "      <th>business_id</th>\n",
       "      <th>AcceptsInsurance</th>\n",
       "      <th>ByAppointmentOnly</th>\n",
       "      <th>BusinessAcceptsCreditCards</th>\n",
       "      <th>BusinessParking_garage</th>\n",
       "      <th>BusinessParking_street</th>\n",
       "      <th>BusinessParking_validated</th>\n",
       "      <th>BusinessParking_lot</th>\n",
       "      <th>BusinessParking_valet</th>\n",
       "      <th>...</th>\n",
       "      <th>Corkage</th>\n",
       "      <th>DietaryRestrictions_dairy-free</th>\n",
       "      <th>DietaryRestrictions_gluten-free</th>\n",
       "      <th>DietaryRestrictions_vegan</th>\n",
       "      <th>DietaryRestrictions_kosher</th>\n",
       "      <th>DietaryRestrictions_halal</th>\n",
       "      <th>DietaryRestrictions_soy-free</th>\n",
       "      <th>DietaryRestrictions_vegetarian</th>\n",
       "      <th>AgesAllowed</th>\n",
       "      <th>RestaurantsCounterService</th>\n",
       "    </tr>\n",
       "  </thead>\n",
       "  <tbody>\n",
       "    <tr>\n",
       "      <th>0</th>\n",
       "      <td>3</td>\n",
       "      <td>PfOCPjBrlQAnz__NXj9h_w</td>\n",
       "      <td>Na</td>\n",
       "      <td>Na</td>\n",
       "      <td>Na</td>\n",
       "      <td>Na</td>\n",
       "      <td>Na</td>\n",
       "      <td>Na</td>\n",
       "      <td>Na</td>\n",
       "      <td>Na</td>\n",
       "      <td>...</td>\n",
       "      <td>Na</td>\n",
       "      <td>Na</td>\n",
       "      <td>Na</td>\n",
       "      <td>Na</td>\n",
       "      <td>Na</td>\n",
       "      <td>Na</td>\n",
       "      <td>Na</td>\n",
       "      <td>Na</td>\n",
       "      <td>Na</td>\n",
       "      <td>Na</td>\n",
       "    </tr>\n",
       "    <tr>\n",
       "      <th>1</th>\n",
       "      <td>4</td>\n",
       "      <td>o9eMRCWt5PkpLDE0gOPtcQ</td>\n",
       "      <td>Na</td>\n",
       "      <td>Na</td>\n",
       "      <td>Na</td>\n",
       "      <td>Na</td>\n",
       "      <td>False</td>\n",
       "      <td>False</td>\n",
       "      <td>False</td>\n",
       "      <td>False</td>\n",
       "      <td>...</td>\n",
       "      <td>Na</td>\n",
       "      <td>Na</td>\n",
       "      <td>Na</td>\n",
       "      <td>Na</td>\n",
       "      <td>Na</td>\n",
       "      <td>Na</td>\n",
       "      <td>Na</td>\n",
       "      <td>Na</td>\n",
       "      <td>Na</td>\n",
       "      <td>Na</td>\n",
       "    </tr>\n",
       "    <tr>\n",
       "      <th>2</th>\n",
       "      <td>9</td>\n",
       "      <td>XOSRcvtaKc_Q5H1SAzN20A</td>\n",
       "      <td>Na</td>\n",
       "      <td>Na</td>\n",
       "      <td>Na</td>\n",
       "      <td>Na</td>\n",
       "      <td>False</td>\n",
       "      <td>False</td>\n",
       "      <td>False</td>\n",
       "      <td>True</td>\n",
       "      <td>...</td>\n",
       "      <td>Na</td>\n",
       "      <td>Na</td>\n",
       "      <td>Na</td>\n",
       "      <td>Na</td>\n",
       "      <td>Na</td>\n",
       "      <td>Na</td>\n",
       "      <td>Na</td>\n",
       "      <td>Na</td>\n",
       "      <td>Na</td>\n",
       "      <td>Na</td>\n",
       "    </tr>\n",
       "    <tr>\n",
       "      <th>3</th>\n",
       "      <td>13</td>\n",
       "      <td>fNMVV_ZX7CJSDWQGdOM8Nw</td>\n",
       "      <td>Na</td>\n",
       "      <td>Na</td>\n",
       "      <td>Na</td>\n",
       "      <td>Na</td>\n",
       "      <td>Na</td>\n",
       "      <td>Na</td>\n",
       "      <td>Na</td>\n",
       "      <td>Na</td>\n",
       "      <td>...</td>\n",
       "      <td>Na</td>\n",
       "      <td>Na</td>\n",
       "      <td>Na</td>\n",
       "      <td>Na</td>\n",
       "      <td>Na</td>\n",
       "      <td>Na</td>\n",
       "      <td>Na</td>\n",
       "      <td>Na</td>\n",
       "      <td>Na</td>\n",
       "      <td>Na</td>\n",
       "    </tr>\n",
       "    <tr>\n",
       "      <th>4</th>\n",
       "      <td>14</td>\n",
       "      <td>l09JfMeQ6ynYs5MCJtrcmQ</td>\n",
       "      <td>Na</td>\n",
       "      <td>Na</td>\n",
       "      <td>Na</td>\n",
       "      <td>Na</td>\n",
       "      <td>False</td>\n",
       "      <td>True</td>\n",
       "      <td>False</td>\n",
       "      <td>False</td>\n",
       "      <td>...</td>\n",
       "      <td>Na</td>\n",
       "      <td>Na</td>\n",
       "      <td>Na</td>\n",
       "      <td>Na</td>\n",
       "      <td>Na</td>\n",
       "      <td>Na</td>\n",
       "      <td>Na</td>\n",
       "      <td>Na</td>\n",
       "      <td>Na</td>\n",
       "      <td>Na</td>\n",
       "    </tr>\n",
       "  </tbody>\n",
       "</table>\n",
       "<p>5 rows × 83 columns</p>\n",
       "</div>"
      ],
      "text/plain": [
       "   Unnamed: 0             business_id AcceptsInsurance ByAppointmentOnly  \\\n",
       "0           3  PfOCPjBrlQAnz__NXj9h_w               Na                Na   \n",
       "1           4  o9eMRCWt5PkpLDE0gOPtcQ               Na                Na   \n",
       "2           9  XOSRcvtaKc_Q5H1SAzN20A               Na                Na   \n",
       "3          13  fNMVV_ZX7CJSDWQGdOM8Nw               Na                Na   \n",
       "4          14  l09JfMeQ6ynYs5MCJtrcmQ               Na                Na   \n",
       "\n",
       "  BusinessAcceptsCreditCards BusinessParking_garage BusinessParking_street  \\\n",
       "0                         Na                     Na                     Na   \n",
       "1                         Na                     Na                  False   \n",
       "2                         Na                     Na                  False   \n",
       "3                         Na                     Na                     Na   \n",
       "4                         Na                     Na                  False   \n",
       "\n",
       "  BusinessParking_validated BusinessParking_lot BusinessParking_valet  \\\n",
       "0                        Na                  Na                    Na   \n",
       "1                     False               False                 False   \n",
       "2                     False               False                  True   \n",
       "3                        Na                  Na                    Na   \n",
       "4                      True               False                 False   \n",
       "\n",
       "             ...            Corkage DietaryRestrictions_dairy-free  \\\n",
       "0            ...                 Na                             Na   \n",
       "1            ...                 Na                             Na   \n",
       "2            ...                 Na                             Na   \n",
       "3            ...                 Na                             Na   \n",
       "4            ...                 Na                             Na   \n",
       "\n",
       "  DietaryRestrictions_gluten-free DietaryRestrictions_vegan  \\\n",
       "0                              Na                        Na   \n",
       "1                              Na                        Na   \n",
       "2                              Na                        Na   \n",
       "3                              Na                        Na   \n",
       "4                              Na                        Na   \n",
       "\n",
       "  DietaryRestrictions_kosher DietaryRestrictions_halal  \\\n",
       "0                         Na                        Na   \n",
       "1                         Na                        Na   \n",
       "2                         Na                        Na   \n",
       "3                         Na                        Na   \n",
       "4                         Na                        Na   \n",
       "\n",
       "  DietaryRestrictions_soy-free DietaryRestrictions_vegetarian AgesAllowed  \\\n",
       "0                           Na                             Na          Na   \n",
       "1                           Na                             Na          Na   \n",
       "2                           Na                             Na          Na   \n",
       "3                           Na                             Na          Na   \n",
       "4                           Na                             Na          Na   \n",
       "\n",
       "  RestaurantsCounterService  \n",
       "0                        Na  \n",
       "1                        Na  \n",
       "2                        Na  \n",
       "3                        Na  \n",
       "4                        Na  \n",
       "\n",
       "[5 rows x 83 columns]"
      ]
     },
     "execution_count": 14,
     "metadata": {},
     "output_type": "execute_result"
    }
   ],
   "source": [
    "df_business_attr.head()"
   ]
  },
  {
   "cell_type": "code",
   "execution_count": 15,
   "metadata": {},
   "outputs": [
    {
     "data": {
      "text/plain": [
       "Unnamed: 0                           0\n",
       "business_id                          0\n",
       "AcceptsInsurance                     0\n",
       "ByAppointmentOnly                    0\n",
       "BusinessAcceptsCreditCards           0\n",
       "BusinessParking_garage               0\n",
       "BusinessParking_street               0\n",
       "BusinessParking_validated            0\n",
       "BusinessParking_lot                  0\n",
       "BusinessParking_valet                0\n",
       "HairSpecializesIn_coloring           0\n",
       "HairSpecializesIn_africanamerican    0\n",
       "HairSpecializesIn_curly              0\n",
       "HairSpecializesIn_perms              0\n",
       "HairSpecializesIn_kids               0\n",
       "HairSpecializesIn_extensions         0\n",
       "HairSpecializesIn_asian              0\n",
       "HairSpecializesIn_straightperms      0\n",
       "RestaurantsPriceRange2               0\n",
       "GoodForKids                          0\n",
       "WheelchairAccessible                 0\n",
       "BikeParking                          0\n",
       "Alcohol                              0\n",
       "HasTV                                0\n",
       "NoiseLevel                           0\n",
       "RestaurantsAttire                    0\n",
       "Music_dj                             0\n",
       "Music_background_music               0\n",
       "Music_no_music                       0\n",
       "Music_karaoke                        0\n",
       "                                    ..\n",
       "BestNights_tuesday                   0\n",
       "BestNights_friday                    0\n",
       "BestNights_wednesday                 0\n",
       "BestNights_thursday                  0\n",
       "BestNights_sunday                    0\n",
       "BestNights_saturday                  0\n",
       "GoodForMeal_dessert                  0\n",
       "GoodForMeal_latenight                0\n",
       "GoodForMeal_lunch                    0\n",
       "GoodForMeal_dinner                   0\n",
       "GoodForMeal_breakfast                0\n",
       "GoodForMeal_brunch                   0\n",
       "CoatCheck                            0\n",
       "Smoking                              0\n",
       "DriveThru                            0\n",
       "DogsAllowed                          0\n",
       "BusinessAcceptsBitcoin               0\n",
       "Open24Hours                          0\n",
       "BYOBCorkage                          0\n",
       "BYOB                                 0\n",
       "Corkage                              0\n",
       "DietaryRestrictions_dairy-free       0\n",
       "DietaryRestrictions_gluten-free      0\n",
       "DietaryRestrictions_vegan            0\n",
       "DietaryRestrictions_kosher           0\n",
       "DietaryRestrictions_halal            0\n",
       "DietaryRestrictions_soy-free         0\n",
       "DietaryRestrictions_vegetarian       0\n",
       "AgesAllowed                          0\n",
       "RestaurantsCounterService            0\n",
       "Length: 83, dtype: int64"
      ]
     },
     "execution_count": 15,
     "metadata": {},
     "output_type": "execute_result"
    }
   ],
   "source": [
    "df_business_attr.isnull().sum()"
   ]
  },
  {
   "cell_type": "code",
   "execution_count": 16,
   "metadata": {},
   "outputs": [],
   "source": [
    "df_business_attr = df_business_attr.drop(columns = ['Unnamed: 0'])"
   ]
  },
  {
   "cell_type": "code",
   "execution_count": 17,
   "metadata": {},
   "outputs": [
    {
     "data": {
      "text/plain": [
       "business_id                              0\n",
       "AcceptsInsurance                     52652\n",
       "ByAppointmentOnly                    52652\n",
       "BusinessAcceptsCreditCards           52413\n",
       "BusinessParking_garage               52558\n",
       "BusinessParking_street               19739\n",
       "BusinessParking_validated            19739\n",
       "BusinessParking_lot                  20499\n",
       "BusinessParking_valet                19739\n",
       "HairSpecializesIn_coloring           19739\n",
       "HairSpecializesIn_africanamerican    52652\n",
       "HairSpecializesIn_curly              52652\n",
       "HairSpecializesIn_perms              52652\n",
       "HairSpecializesIn_kids               52652\n",
       "HairSpecializesIn_extensions         52652\n",
       "HairSpecializesIn_asian              52652\n",
       "HairSpecializesIn_straightperms      52652\n",
       "RestaurantsPriceRange2               52652\n",
       "GoodForKids                          52268\n",
       "WheelchairAccessible                 35901\n",
       "BikeParking                          35708\n",
       "Alcohol                              52485\n",
       "HasTV                                51826\n",
       "NoiseLevel                           52478\n",
       "RestaurantsAttire                    52590\n",
       "Music_dj                             52571\n",
       "Music_background_music               52649\n",
       "Music_no_music                       52649\n",
       "Music_karaoke                        52649\n",
       "Music_live                           52649\n",
       "                                     ...  \n",
       "BestNights_tuesday                   52622\n",
       "BestNights_friday                    52622\n",
       "BestNights_wednesday                 52622\n",
       "BestNights_thursday                  52622\n",
       "BestNights_sunday                    52622\n",
       "BestNights_saturday                  52622\n",
       "GoodForMeal_dessert                  52622\n",
       "GoodForMeal_latenight                50871\n",
       "GoodForMeal_lunch                    50871\n",
       "GoodForMeal_dinner                   50871\n",
       "GoodForMeal_breakfast                50871\n",
       "GoodForMeal_brunch                   50871\n",
       "CoatCheck                            50871\n",
       "Smoking                              52371\n",
       "DriveThru                            51770\n",
       "DogsAllowed                          46733\n",
       "BusinessAcceptsBitcoin               52636\n",
       "Open24Hours                          52642\n",
       "BYOBCorkage                          52652\n",
       "BYOB                                 52569\n",
       "Corkage                              52652\n",
       "DietaryRestrictions_dairy-free       52652\n",
       "DietaryRestrictions_gluten-free      52545\n",
       "DietaryRestrictions_vegan            52545\n",
       "DietaryRestrictions_kosher           52545\n",
       "DietaryRestrictions_halal            52545\n",
       "DietaryRestrictions_soy-free         52545\n",
       "DietaryRestrictions_vegetarian       52545\n",
       "AgesAllowed                          52545\n",
       "RestaurantsCounterService            52651\n",
       "Length: 82, dtype: int64"
      ]
     },
     "execution_count": 17,
     "metadata": {},
     "output_type": "execute_result"
    }
   ],
   "source": [
    "df_business_attr.isin(['Na']).sum(axis=0)"
   ]
  },
  {
   "cell_type": "markdown",
   "metadata": {},
   "source": [
    "## Most of the attribute column values are not available, hence not using these attributes for further processing"
   ]
  },
  {
   "cell_type": "code",
   "execution_count": 19,
   "metadata": {},
   "outputs": [
    {
     "data": {
      "text/plain": [
       "Index(['Unnamed: 0', 'business_id', 'weekday', 'hour', 'checkins'], dtype='object')"
      ]
     },
     "execution_count": 19,
     "metadata": {},
     "output_type": "execute_result"
    }
   ],
   "source": [
    "df_checkin.columns"
   ]
  },
  {
   "cell_type": "code",
   "execution_count": 25,
   "metadata": {},
   "outputs": [],
   "source": [
    "df_checkin_count = df_checkin.groupby(['business_id']).count()"
   ]
  },
  {
   "cell_type": "code",
   "execution_count": 32,
   "metadata": {},
   "outputs": [
    {
     "data": {
      "text/plain": [
       "business_id\n",
       "--6MefnULPED_I942VcFNA     52\n",
       "--9e1ONYQuAa-CB_Rrw7Tw    138\n",
       "-01XupAWZEXbdNbxNg5mEg     94\n",
       "-050d_XIor1NpCuWkbIVaQ     82\n",
       "-05uZNVbb8DhFweTEOoDVg     12\n",
       "Name: checkins, dtype: int64"
      ]
     },
     "execution_count": 32,
     "metadata": {},
     "output_type": "execute_result"
    }
   ],
   "source": [
    "df_checkin_count.checkins.head()"
   ]
  },
  {
   "cell_type": "code",
   "execution_count": 33,
   "metadata": {},
   "outputs": [
    {
     "data": {
      "text/plain": [
       "Index(['Unnamed: 0', 'text', 'date', 'likes', 'business_id', 'user_id'], dtype='object')"
      ]
     },
     "execution_count": 33,
     "metadata": {},
     "output_type": "execute_result"
    }
   ],
   "source": [
    "df_tip.columns"
   ]
  },
  {
   "cell_type": "code",
   "execution_count": 34,
   "metadata": {},
   "outputs": [
    {
     "data": {
      "text/plain": [
       "Index(['Unnamed: 0', 'business_id', 'monday', 'tuesday', 'wednesday',\n",
       "       'thursday', 'friday', 'saturday', 'sunday'],\n",
       "      dtype='object')"
      ]
     },
     "execution_count": 34,
     "metadata": {},
     "output_type": "execute_result"
    }
   ],
   "source": [
    "df_business_hours.columns"
   ]
  },
  {
   "cell_type": "code",
   "execution_count": 35,
   "metadata": {},
   "outputs": [
    {
     "data": {
      "text/html": [
       "<div>\n",
       "<style scoped>\n",
       "    .dataframe tbody tr th:only-of-type {\n",
       "        vertical-align: middle;\n",
       "    }\n",
       "\n",
       "    .dataframe tbody tr th {\n",
       "        vertical-align: top;\n",
       "    }\n",
       "\n",
       "    .dataframe thead th {\n",
       "        text-align: right;\n",
       "    }\n",
       "</style>\n",
       "<table border=\"1\" class=\"dataframe\">\n",
       "  <thead>\n",
       "    <tr style=\"text-align: right;\">\n",
       "      <th></th>\n",
       "      <th>Unnamed: 0</th>\n",
       "      <th>business_id</th>\n",
       "      <th>monday</th>\n",
       "      <th>tuesday</th>\n",
       "      <th>wednesday</th>\n",
       "      <th>thursday</th>\n",
       "      <th>friday</th>\n",
       "      <th>saturday</th>\n",
       "      <th>sunday</th>\n",
       "    </tr>\n",
       "  </thead>\n",
       "  <tbody>\n",
       "    <tr>\n",
       "      <th>0</th>\n",
       "      <td>4</td>\n",
       "      <td>PfOCPjBrlQAnz__NXj9h_w</td>\n",
       "      <td>11:0-1:0</td>\n",
       "      <td>11:0-1:0</td>\n",
       "      <td>11:0-1:0</td>\n",
       "      <td>11:0-1:0</td>\n",
       "      <td>11:0-1:0</td>\n",
       "      <td>11:0-2:0</td>\n",
       "      <td>11:0-0:0</td>\n",
       "    </tr>\n",
       "    <tr>\n",
       "      <th>1</th>\n",
       "      <td>5</td>\n",
       "      <td>o9eMRCWt5PkpLDE0gOPtcQ</td>\n",
       "      <td>18:0-0:0</td>\n",
       "      <td>18:0-0:0</td>\n",
       "      <td>18:0-0:0</td>\n",
       "      <td>18:0-0:0</td>\n",
       "      <td>18:0-0:0</td>\n",
       "      <td>18:0-0:0</td>\n",
       "      <td>None</td>\n",
       "    </tr>\n",
       "    <tr>\n",
       "      <th>2</th>\n",
       "      <td>10</td>\n",
       "      <td>XOSRcvtaKc_Q5H1SAzN20A</td>\n",
       "      <td>None</td>\n",
       "      <td>None</td>\n",
       "      <td>None</td>\n",
       "      <td>None</td>\n",
       "      <td>None</td>\n",
       "      <td>None</td>\n",
       "      <td>None</td>\n",
       "    </tr>\n",
       "    <tr>\n",
       "      <th>3</th>\n",
       "      <td>14</td>\n",
       "      <td>fNMVV_ZX7CJSDWQGdOM8Nw</td>\n",
       "      <td>7:0-15:0</td>\n",
       "      <td>7:0-15:0</td>\n",
       "      <td>7:0-15:0</td>\n",
       "      <td>7:0-15:0</td>\n",
       "      <td>7:0-15:0</td>\n",
       "      <td>None</td>\n",
       "      <td>None</td>\n",
       "    </tr>\n",
       "    <tr>\n",
       "      <th>4</th>\n",
       "      <td>15</td>\n",
       "      <td>l09JfMeQ6ynYs5MCJtrcmQ</td>\n",
       "      <td>9:0-22:0</td>\n",
       "      <td>9:0-22:0</td>\n",
       "      <td>9:0-22:0</td>\n",
       "      <td>9:0-22:0</td>\n",
       "      <td>9:0-22:0</td>\n",
       "      <td>9:0-22:0</td>\n",
       "      <td>9:0-22:0</td>\n",
       "    </tr>\n",
       "  </tbody>\n",
       "</table>\n",
       "</div>"
      ],
      "text/plain": [
       "   Unnamed: 0             business_id    monday   tuesday wednesday  thursday  \\\n",
       "0           4  PfOCPjBrlQAnz__NXj9h_w  11:0-1:0  11:0-1:0  11:0-1:0  11:0-1:0   \n",
       "1           5  o9eMRCWt5PkpLDE0gOPtcQ  18:0-0:0  18:0-0:0  18:0-0:0  18:0-0:0   \n",
       "2          10  XOSRcvtaKc_Q5H1SAzN20A      None      None      None      None   \n",
       "3          14  fNMVV_ZX7CJSDWQGdOM8Nw  7:0-15:0  7:0-15:0  7:0-15:0  7:0-15:0   \n",
       "4          15  l09JfMeQ6ynYs5MCJtrcmQ  9:0-22:0  9:0-22:0  9:0-22:0  9:0-22:0   \n",
       "\n",
       "     friday  saturday    sunday  \n",
       "0  11:0-1:0  11:0-2:0  11:0-0:0  \n",
       "1  18:0-0:0  18:0-0:0      None  \n",
       "2      None      None      None  \n",
       "3  7:0-15:0      None      None  \n",
       "4  9:0-22:0  9:0-22:0  9:0-22:0  "
      ]
     },
     "execution_count": 35,
     "metadata": {},
     "output_type": "execute_result"
    }
   ],
   "source": [
    "df_business_hours.head()"
   ]
  },
  {
   "cell_type": "code",
   "execution_count": 24,
   "metadata": {},
   "outputs": [
    {
     "data": {
      "text/plain": [
       "Unnamed: 0         0\n",
       "business_id        0\n",
       "monday         17982\n",
       "tuesday        15207\n",
       "wednesday      14608\n",
       "thursday       14428\n",
       "friday         14375\n",
       "saturday       15342\n",
       "sunday         19998\n",
       "dtype: int64"
      ]
     },
     "execution_count": 24,
     "metadata": {},
     "output_type": "execute_result"
    }
   ],
   "source": [
    "df_business_hours.isin(['None']).sum(axis=0)"
   ]
  },
  {
   "cell_type": "code",
   "execution_count": 39,
   "metadata": {},
   "outputs": [],
   "source": [
    "df_merged = pd.merge(df_business, df_checkin_count[['checkins']], left_on='business_id', right_on='business_id', how='inner')"
   ]
  },
  {
   "cell_type": "code",
   "execution_count": 40,
   "metadata": {},
   "outputs": [
    {
     "data": {
      "text/plain": [
       "Index(['business_id', 'name', 'address', 'city', 'state', 'latitude',\n",
       "       'longitude', 'stars', 'review_count', 'is_open', 'categories',\n",
       "       'checkins'],\n",
       "      dtype='object')"
      ]
     },
     "execution_count": 40,
     "metadata": {},
     "output_type": "execute_result"
    }
   ],
   "source": [
    "df_merged.columns"
   ]
  },
  {
   "cell_type": "code",
   "execution_count": 41,
   "metadata": {},
   "outputs": [],
   "source": [
    "df_merged.to_pickle('df_merged.pkl')"
   ]
  },
  {
   "cell_type": "code",
   "execution_count": null,
   "metadata": {},
   "outputs": [],
   "source": []
  }
 ],
 "metadata": {
  "kernelspec": {
   "display_name": "Python 3",
   "language": "python",
   "name": "python3"
  },
  "language_info": {
   "codemirror_mode": {
    "name": "ipython",
    "version": 3
   },
   "file_extension": ".py",
   "mimetype": "text/x-python",
   "name": "python",
   "nbconvert_exporter": "python",
   "pygments_lexer": "ipython3",
   "version": "3.6.5"
  }
 },
 "nbformat": 4,
 "nbformat_minor": 2
}
